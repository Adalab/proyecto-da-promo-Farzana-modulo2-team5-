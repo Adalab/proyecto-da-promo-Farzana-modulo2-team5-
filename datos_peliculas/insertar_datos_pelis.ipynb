{
 "cells": [
  {
   "cell_type": "code",
   "execution_count": 3,
   "metadata": {},
   "outputs": [],
   "source": [
    "#!pip install mysql-connector-python\n",
    "#!pip install python-dotenv\n",
    "import os\n",
    "import pandas as pd\n",
    "import mysql.connector\n",
    "from  mysql.connector import errorcode"
   ]
  },
  {
   "cell_type": "code",
   "execution_count": 11,
   "metadata": {},
   "outputs": [
    {
     "name": "stdout",
     "output_type": "stream",
     "text": [
      "lista_peliculas_1992_3000.csv - no existe\n",
      "lista_peliculas_1999_3000.csv - no existe\n",
      "lista_peliculas_2011_3000.csv - no existe\n",
      "lista_peliculas_2012_3000.csv - no existe\n",
      "lista_peliculas_2013_3000.csv - no existe\n",
      "lista_peliculas_2014_3000.csv - no existe\n",
      "12517 registros insertados\n"
     ]
    }
   ],
   "source": [
    "\n",
    "lista_tuplas_pelis = []        \n",
    "for i in range(1990,2024):\n",
    "    try:\n",
    "        df_pelis = pd.read_csv(f'lista_peliculas_{i}_1000.csv')\n",
    "        \n",
    "        orden_pelis = [\"0\",\"1\",\"2\",\"3\",\"4\",\"5\",\"6\",\"9\",\"10\"]\n",
    "    \n",
    "        df_peliculas = df_pelis.reindex(columns = orden_pelis)\n",
    "        \n",
    "        #quitar nan y null del dataframe\n",
    "        df_final_peliculas = df_peliculas.dropna(how='any', axis=0)\n",
    "        #df_final_peliculas['0'].unique()\n",
    "        #df_final_peliculas['1'].unique()\n",
    "        \n",
    "        for fila in df_final_peliculas.values:\n",
    "            lista_tuplas_pelis.append(tuple(fila))\n",
    "    except:\n",
    "        print(f\"lista_peliculas_{i}_3000.csv - no existe\")            \n",
    "        \n",
    "lista_tuplas_pelis = set(lista_tuplas_pelis)        \n",
    "#Tabla peliculas\n",
    "\n",
    "# Recuperamos la contraseña del .env\n",
    "try:\n",
    "    contraseña = os.environ.get('contraseña')\n",
    "except mysql.connector.Error as err:\n",
    "\n",
    "    # si es un error con la contraseña devuelveme un mensaje de acceso denegado ya que tenemos problemas con la contraseña\n",
    "    if err.errno == errorcode.ER_ACCESS_DENIED_ERROR:\n",
    "        print(\"Something is wrong with your user name or password\")\n",
    "    \n",
    "    # si el error no tiene que ver con la contraseña, puede ser porque la base de datos no exista, devuelveme un mensaje de que la base de datos no existe\n",
    "    elif err.errno == errorcode.ER_BAD_DB_ERROR:\n",
    "        print(\"Database does not exist\")\n",
    "    \n",
    "    # si no es por ninguno de los errores anteriores, printeame cual es el error que estoy teniendo en mi conexión\n",
    "    else:\n",
    "        print(err)\n",
    "\n",
    "#concexion\n",
    "cnx = mysql.connector.connect(user=\"root\",\n",
    "                    password='AlumnaAdalab',\n",
    "                    host=\"localhost\", database = \"bho_peliculas_3\")\n",
    "\n",
    "mycursor = cnx.cursor()\n",
    "\n",
    "sql_peliculas = \"INSERT INTO peliculas (id_pelicula, nombre_pelicula, tipo, genero, año_estreno, mes_estreno, direccion, argumento, duracion) VALUES (%s, %s, %s, %s, %s, %s, %s, %s, %s)\"\n",
    "\n",
    "try:\n",
    "    mycursor.executemany(sql_peliculas, lista_tuplas_pelis)\n",
    "    cnx.commit()\n",
    "    print(mycursor.rowcount, \"registros insertados\")\n",
    "\n",
    "except mysql.connector.Error as err:\n",
    "    print(err)\n",
    "    print(\"Error Code:\", err.errno)\n",
    "    print(\"SQLSTATE\", err.sqlstate)\n",
    "    print(\"Message\", err.msg)\n",
    "    print(\"peliculas - error inserción\")"
   ]
  }
 ],
 "metadata": {
  "kernelspec": {
   "display_name": "Python 3",
   "language": "python",
   "name": "python3"
  },
  "language_info": {
   "codemirror_mode": {
    "name": "ipython",
    "version": 3
   },
   "file_extension": ".py",
   "mimetype": "text/x-python",
   "name": "python",
   "nbconvert_exporter": "python",
   "pygments_lexer": "ipython3",
   "version": "3.9.13"
  }
 },
 "nbformat": 4,
 "nbformat_minor": 2
}
