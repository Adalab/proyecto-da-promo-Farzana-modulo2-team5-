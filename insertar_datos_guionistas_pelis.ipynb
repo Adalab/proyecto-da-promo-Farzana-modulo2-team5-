{
 "cells": [
  {
   "cell_type": "code",
   "execution_count": 1,
   "metadata": {},
   "outputs": [],
   "source": [
    "#!pip install mysql-connector-python\n",
    "\n",
    "import os\n",
    "import pandas as pd\n",
    "import mysql.connector\n",
    "from  mysql.connector import errorcode\n",
    "import ast"
   ]
  },
  {
   "cell_type": "code",
   "execution_count": 18,
   "metadata": {},
   "outputs": [
    {
     "name": "stdout",
     "output_type": "stream",
     "text": [
      "lista_peliculas_1990_1000.csv - no existe\n",
      "lista_peliculas_1991_1000.csv - no existe\n",
      "lista_peliculas_1992_1000.csv - no existe\n",
      "lista_peliculas_1993_1000.csv - no existe\n",
      "lista_peliculas_1994_1000.csv - no existe\n",
      "lista_peliculas_1995_1000.csv - no existe\n",
      "lista_peliculas_1996_1000.csv - no existe\n",
      "lista_peliculas_1997_1000.csv - no existe\n",
      "lista_peliculas_1998_1000.csv - no existe\n",
      "lista_peliculas_2000_1000.csv - no existe\n",
      "lista_peliculas_2001_1000.csv - no existe\n",
      "lista_peliculas_2002_1000.csv - no existe\n",
      "lista_peliculas_2003_1000.csv - no existe\n",
      "lista_peliculas_2004_1000.csv - no existe\n",
      "lista_peliculas_2005_1000.csv - no existe\n",
      "lista_peliculas_2006_1000.csv - no existe\n",
      "lista_peliculas_2007_1000.csv - no existe\n",
      "lista_peliculas_2008_1000.csv - no existe\n",
      "lista_peliculas_2009_1000.csv - no existe\n",
      "lista_peliculas_2010_1000.csv - no existe\n",
      "lista_peliculas_2011_1000.csv - no existe\n",
      "lista_peliculas_2012_1000.csv - no existe\n",
      "lista_peliculas_2013_1000.csv - no existe\n",
      "lista_peliculas_2014_1000.csv - no existe\n",
      "lista_peliculas_2015_1000.csv - no existe\n"
     ]
    }
   ],
   "source": [
    "lista_tuplas_guionistas =[]\n",
    "lista_final_guionistas = []\n",
    "\n",
    "for i in range(1990,2024):\n",
    "   \n",
    "    try:\n",
    "        df_pelis = pd.read_csv(f'datos_peliculas/lista_peliculas_{i}_3000.csv')\n",
    "    except:\n",
    "        print(f\"lista_peliculas_{i}_1000.csv - no existe\")            \n",
    "\n",
    "    orden_guion = [\"0\",\"8\"]\n",
    "\n",
    "    df_guionistas_pelis = df_pelis.reindex(columns = orden_guion)\n",
    "\n",
    "    # tupla guionistas\n",
    "    for fila in df_guionistas_pelis.values:\n",
    "\n",
    "        try:\n",
    "            linea = ast.literal_eval(fila[1])\n",
    "        except:\n",
    "            linea = 'No data'   \n",
    "\n",
    "        for elemento in linea:\n",
    "            lista_tuplas_guionistas.append((fila[0], elemento))\n",
    "\n",
    "df_guionistas = pd.DataFrame(set(lista_tuplas_guionistas), columns =['id', 'nombre'])\n",
    "\n",
    "\n",
    "#quitar nan y null del dataframe\n",
    "df_final_guionistas = df_guionistas.dropna(how='any', axis=0) \n",
    "\n",
    "for fila in df_final_guionistas.values:\n",
    "    lista_final_guionistas.append(tuple(fila))"
   ]
  },
  {
   "cell_type": "code",
   "execution_count": 16,
   "metadata": {},
   "outputs": [
    {
     "data": {
      "text/plain": [
       "1541"
      ]
     },
     "execution_count": 16,
     "metadata": {},
     "output_type": "execute_result"
    }
   ],
   "source": [
    "len(lista_final_guionistas)"
   ]
  },
  {
   "cell_type": "code",
   "execution_count": 17,
   "metadata": {},
   "outputs": [
    {
     "name": "stdout",
     "output_type": "stream",
     "text": [
      "1541 registros insertados\n"
     ]
    }
   ],
   "source": [
    "#conexion     \n",
    "cnx = mysql.connector.connect(user=\"root\",\n",
    "                        password=\"AlumnaAdalab\",\n",
    "                        host=\"localhost\", database = \"bho_peliculas_3\")\n",
    "\n",
    "mycursor = cnx.cursor()\n",
    "\n",
    "#tabla guionistas por pelicula\n",
    "sql_guionistas_peliculas = \"INSERT INTO guionistas_peliculas (id_pelicula, nombre_guionista) VALUES (%s, %s)\"\n",
    "\n",
    "try:\n",
    "    mycursor.executemany(sql_guionistas_peliculas, lista_final_guionistas)\n",
    "    cnx.commit()\n",
    "    print(mycursor.rowcount, \"registros insertados\")\n",
    "\n",
    "except mysql.connector.Error as err:\n",
    "    print(err)\n",
    "    print(\"Error Code:\", err.errno)\n",
    "    print(\"SQLSTATE\", err.sqlstate)\n",
    "    print(\"Message\", err.msg)\n",
    "    print(\"peliculas - error inserción\")    \n",
    "\n"
   ]
  }
 ],
 "metadata": {
  "kernelspec": {
   "display_name": "Python 3",
   "language": "python",
   "name": "python3"
  },
  "language_info": {
   "codemirror_mode": {
    "name": "ipython",
    "version": 3
   },
   "file_extension": ".py",
   "mimetype": "text/x-python",
   "name": "python",
   "nbconvert_exporter": "python",
   "pygments_lexer": "ipython3",
   "version": "3.9.13"
  }
 },
 "nbformat": 4,
 "nbformat_minor": 2
}
