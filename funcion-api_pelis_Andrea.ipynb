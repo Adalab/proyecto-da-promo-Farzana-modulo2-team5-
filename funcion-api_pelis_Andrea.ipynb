{
 "cells": [
  {
   "cell_type": "code",
   "execution_count": null,
   "metadata": {},
   "outputs": [],
   "source": [
    "import requests\n",
    "\n",
    "url = \"https://moviesdatabase.p.rapidapi.com/titles?\"\n",
    "\n",
    "parametros =  {\"genre\":\"Drama\",\"startYear\":\"1998\",\"endYear\":\"2006\",\"page\":\"1\"}\n",
    "\n",
    "TOKEN=input(\"Introduce tu token secreto\")\n",
    "\n",
    "headers = {\n",
    "\t\"X-RapidAPI-Key\": TOKEN,\n",
    "\t\"X-RapidAPI-Host\": \"moviesdatabase.p.rapidapi.com\"\n",
    "}\n",
    "\n",
    "response = requests.get(url, headers=headers, params=parametros)\n",
    "\n",
    "print(response.json())\n",
    "\n",
    "respuesta_json = response.json()\n",
    "\n",
    "\n"
   ]
  },
  {
   "cell_type": "code",
   "execution_count": null,
   "metadata": {},
   "outputs": [],
   "source": [
    "print(respuesta_json[\"results\"][0])"
   ]
  },
  {
   "cell_type": "code",
   "execution_count": null,
   "metadata": {},
   "outputs": [],
   "source": [
    "# solo me da una pagina, \n",
    "# Necesitamos hacer una función y que esta función saque una lista de tuplas.\n",
    "\n",
    "\n",
    "def convertir_entrada_tupla(entry):\n",
    "    tipo = entry[\"titleType\"][\"id\"]\n",
    "    nombre = entry[\"originalTitleText\"][\"text\"]\n",
    "    año = 0\n",
    "    if entry[\"releaseDate\"] == None:\n",
    "        año = entry[\"releaseYear\"][\"year\"]\n",
    "    else:\n",
    "        año = entry[\"releaseDate\"][\"year\"]\n",
    "    mes = 0\n",
    "    if entry[\"releaseDate\"] == None:\n",
    "        mes = 0\n",
    "    else:\n",
    "        mes = entry[\"releaseDate\"][\"month\"]    \n",
    "    id = entry[\"id\"]\n",
    "    tupla = (tipo, nombre, año, mes, id)\n",
    "\n",
    "    # tupla tiene el siguiente formato: (\"Pelicula\", \"Titanic\", 1997, 12, \"abc123\")\n",
    "    return tupla\n",
    "\n",
    "#convertir_entrada_tupla(respuesta_json[\"results\"][3])"
   ]
  },
  {
   "cell_type": "code",
   "execution_count": null,
   "metadata": {},
   "outputs": [],
   "source": [
    "# quiero que SOLO me muestre peliculas (movie, short, tvMovie)\n",
    "\n",
    "def entrada_es_pelicula(entry):\n",
    "    if entry[\"titleType\"][\"id\"] in [\"movie\",\"short\",\"tvMovie\"]:\n",
    "        return True\n",
    "    else:\n",
    "        return False"
   ]
  },
  {
   "cell_type": "code",
   "execution_count": null,
   "metadata": {},
   "outputs": [],
   "source": [
    "def resultados_a_tuplas(resultados):\n",
    "    # para cada una de las entradas en pagina[\"results\"]\n",
    "    lista_tuplas = [ convertir_entrada_tupla(entry) for entry in resultados if entrada_es_pelicula(entry)]\n",
    "    return lista_tuplas\n",
    "\n",
    "#resultados_a_tuplas(respuesta_json[\"results\"])"
   ]
  },
  {
   "cell_type": "code",
   "execution_count": null,
   "metadata": {},
   "outputs": [],
   "source": [
    "# queremos que nos vaya por las pagínas hasta que next = none y menos de 50 porque en la página 50 se vuelve loco\n",
    "\n",
    "url = \"https://moviesdatabase.p.rapidapi.com\"\n",
    "next = \"/titles?endYear=2006&startYear=1998&genre=Drama&page=2\"\n",
    "\n",
    "def recorrer_paginas(pagina):\n",
    "\n",
    "    print(pagina[\"next\"])\n",
    "    print()\n",
    "    lista_tuplas = resultados_a_tuplas(pagina[\"results\"])\n",
    "   \n",
    "\n",
    "    while pagina[\"next\"] != None and int(pagina[\"page\"]) < 50:\n",
    "        url_siguientepagina = url + pagina[\"next\"]\n",
    "        print (url_siguientepagina)\n",
    "        response = requests.get(url_siguientepagina, headers=headers)\n",
    "        respuesta_json = response.json()\n",
    "        print(respuesta_json)\n",
    "\n",
    "        lista_tuplas= lista_tuplas + (resultados_a_tuplas(respuesta_json[\"results\"]))\n",
    "        \n",
    "        pagina_nueva = respuesta_json\n",
    "        pagina = pagina_nueva\n",
    "\n",
    "\n",
    "    return lista_tuplas\n",
    "\n",
    "#recorrer_paginas(respuesta_json)"
   ]
  },
  {
   "cell_type": "code",
   "execution_count": null,
   "metadata": {},
   "outputs": [],
   "source": [
    "# podríamos poner esto en una función que reciba el parámetro \"genero\"\n",
    "\n",
    "def sacar_peliculas_genero(genero):\n",
    "\n",
    "    url = \"https://moviesdatabase.p.rapidapi.com/titles?\"\n",
    "    \n",
    "    parametros =  {\"genre\":genero,\"startYear\":\"1998\",\"endYear\":\"2006\",\"page\":\"1\"}\n",
    "\n",
    "    headers = {\n",
    "        \"X-RapidAPI-Key\": \"ca8007fe36mshdf2630ce03859c1p12925cjsne65cfe16a058\",\n",
    "        \"X-RapidAPI-Host\": \"moviesdatabase.p.rapidapi.com\"\n",
    "    }\n",
    "\n",
    "    response = requests.get(url, headers=headers, params=parametros)\n",
    "\n",
    "    print(response.json())\n",
    "\n",
    "    respuesta_json = response.json()\n",
    "    pagina = respuesta_json\n",
    "\n",
    "    lista_tuplas = recorrer_paginas(pagina)\n",
    "\n",
    "    return lista_tuplas\n",
    "\n",
    "#lista_tuplas = sacar_peliculas_genero(\"Comedy\")"
   ]
  },
  {
   "cell_type": "code",
   "execution_count": null,
   "metadata": {},
   "outputs": [],
   "source": [
    "def sacar_peliculas():\n",
    "    lista_genero= ['Drama','Comedy', 'Action', 'Fantasy', 'Horror', 'Mystery', 'Romance', 'Thriller']\n",
    "    lista_tuplas = []\n",
    "\n",
    "    for genero in lista_genero:\n",
    "        lista_tuplas = lista_tuplas + sacar_peliculas_genero(genero)\n",
    "    return lista_tuplas    \n",
    "\n",
    "lista_tuplas = sacar_peliculas()    "
   ]
  },
  {
   "cell_type": "code",
   "execution_count": null,
   "metadata": {},
   "outputs": [],
   "source": [
    "import pandas as pd"
   ]
  },
  {
   "cell_type": "code",
   "execution_count": null,
   "metadata": {},
   "outputs": [],
   "source": [
    "print(len(lista_tuplas))\n",
    "df = pd.DataFrame(lista_tuplas,columns=[\"Tipo\",\"Nombre\",\"Año estreno\",\"Mes estreno\",\"Id\"])\n",
    "df.to_csv(\"peliculas_1998-2006.csv\")"
   ]
  }
 ],
 "metadata": {
  "kernelspec": {
   "display_name": "Python 3",
   "language": "python",
   "name": "python3"
  },
  "language_info": {
   "codemirror_mode": {
    "name": "ipython",
    "version": 3
   },
   "file_extension": ".py",
   "mimetype": "text/x-python",
   "name": "python",
   "nbconvert_exporter": "python",
   "pygments_lexer": "ipython3",
   "version": "3.11.6"
  }
 },
 "nbformat": 4,
 "nbformat_minor": 2
}
