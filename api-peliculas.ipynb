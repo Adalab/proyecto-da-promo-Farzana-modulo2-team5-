{
 "cells": [
  {
   "cell_type": "code",
   "execution_count": 114,
   "metadata": {},
   "outputs": [
    {
     "name": "stdout",
     "output_type": "stream",
     "text": [
      "{'page': '2', 'next': '/titles?endYear=2023&page=3&startYear=1990&genre=Drama', 'entries': 10, 'results': [{'_id': '61e58d01cffb8f2faa440749', 'id': 'tt10307012', 'primaryImage': {'id': 'rm2494628097', 'width': 1920, 'height': 1080, 'url': 'https://m.media-amazon.com/images/M/MV5BNGQ4NTY0ZGQtMjczMi00ZjUyLThlYzctMDkwNzI5MDMxM2U2XkEyXkFqcGdeQXVyMTAxMDAwMTg4._V1_.jpg', 'caption': {'plainText': 'Laurine Price in And Yet I Am (2023)', '__typename': 'Markdown'}, '__typename': 'Image'}, 'titleType': {'displayableProperty': {'value': {'plainText': 'TV Episode', '__typename': 'Markdown'}, '__typename': 'DisplayableTitleTypeProperty'}, 'text': 'TV Episode', 'id': 'tvEpisode', 'isSeries': False, 'isEpisode': True, 'categories': [{'value': 'tv', '__typename': 'TitleTypeCategory'}], 'canHaveEpisodes': False, '__typename': 'TitleType'}, 'titleText': {'text': 'And Yet I Am', '__typename': 'TitleText'}, 'originalTitleText': {'text': 'And Yet I Am', '__typename': 'TitleText'}, 'releaseYear': {'year': 2023, 'endYear': None, '__typename': 'YearRange'}, 'releaseDate': {'day': None, 'month': None, 'year': 2023, '__typename': 'ReleaseDate'}}, {'_id': '61e58d3f78c012aa34441653', 'id': 'tt10351180', 'primaryImage': {'id': 'rm2857219841', 'width': 960, 'height': 1280, 'url': 'https://m.media-amazon.com/images/M/MV5BMjcyMDE3YTgtZDQ3Ni00NWRiLWE2NTctZDU4MjE2MzU5YTgyXkEyXkFqcGdeQXVyODE5NzE3OTE@._V1_.jpg', 'caption': {'plainText': 'Amrin Qureshi and Namashi Chakraborthy in Bad Boy (2023)', '__typename': 'Markdown'}, '__typename': 'Image'}, 'titleType': {'displayableProperty': {'value': {'plainText': '', '__typename': 'Markdown'}, '__typename': 'DisplayableTitleTypeProperty'}, 'text': 'Movie', 'id': 'movie', 'isSeries': False, 'isEpisode': False, 'categories': [{'value': 'movie', '__typename': 'TitleTypeCategory'}], 'canHaveEpisodes': False, '__typename': 'TitleType'}, 'titleText': {'text': 'Bad Boy', '__typename': 'TitleText'}, 'originalTitleText': {'text': 'Bad Boy', '__typename': 'TitleText'}, 'releaseYear': {'year': 2023, 'endYear': None, '__typename': 'YearRange'}, 'releaseDate': {'day': 28, 'month': 4, 'year': 2023, '__typename': 'ReleaseDate'}}, {'_id': '61e58d5bd735dff3f944202b', 'id': 'tt10369484', 'primaryImage': {'id': 'rm3421583105', 'width': 1944, 'height': 2880, 'url': 'https://m.media-amazon.com/images/M/MV5BZGQzODIyNWItZTVmZS00OWJjLThkOTItNjMzNmI4MDU1ZTkzXkEyXkFqcGdeQXVyMTQzNTA5MzYz._V1_.jpg', 'caption': {'plainText': 'The Power (2023)', '__typename': 'Markdown'}, '__typename': 'Image'}, 'titleType': {'displayableProperty': {'value': {'plainText': 'TV Series', '__typename': 'Markdown'}, '__typename': 'DisplayableTitleTypeProperty'}, 'text': 'TV Series', 'id': 'tvSeries', 'isSeries': True, 'isEpisode': False, 'categories': [{'value': 'tv', '__typename': 'TitleTypeCategory'}], 'canHaveEpisodes': True, '__typename': 'TitleType'}, 'titleText': {'text': 'The Power', '__typename': 'TitleText'}, 'originalTitleText': {'text': 'The Power', '__typename': 'TitleText'}, 'releaseYear': {'year': 2023, 'endYear': None, '__typename': 'YearRange'}, 'releaseDate': {'day': 31, 'month': 3, 'year': 2023, '__typename': 'ReleaseDate'}}, {'_id': '61e58db495801a78bc4436ed', 'id': 'tt10425998', 'primaryImage': {'id': 'rm223189249', 'width': 1728, 'height': 2304, 'url': 'https://m.media-amazon.com/images/M/MV5BYTBlYzE4MTgtZGVmNy00NjUyLWFmYWItZTJlMzA2ODBiNjJhXkEyXkFqcGdeQXVyNDgwNjAyMQ@@._V1_.jpg', 'caption': {'plainText': 'Valerie Michelson in The Place in Between (2023)', '__typename': 'Markdown'}, '__typename': 'Image'}, 'titleType': {'displayableProperty': {'value': {'plainText': '', '__typename': 'Markdown'}, '__typename': 'DisplayableTitleTypeProperty'}, 'text': 'Movie', 'id': 'movie', 'isSeries': False, 'isEpisode': False, 'categories': [{'value': 'movie', '__typename': 'TitleTypeCategory'}], 'canHaveEpisodes': False, '__typename': 'TitleType'}, 'titleText': {'text': 'The Place in Between', '__typename': 'TitleText'}, 'originalTitleText': {'text': 'The Place in Between', '__typename': 'TitleText'}, 'releaseYear': {'year': 2023, 'endYear': None, '__typename': 'YearRange'}, 'releaseDate': {'day': 4, 'month': 7, 'year': 2023, '__typename': 'ReleaseDate'}}, {'_id': '61e58e6b8a5a6a599f4461c3', 'id': 'tt10545296', 'primaryImage': {'id': 'rm770462209', 'width': 1728, 'height': 2664, 'url': 'https://m.media-amazon.com/images/M/MV5BOTZmMmY2MzctMjU2Yy00YjJlLTk1NjAtY2U4MmMxOWZkZWY4XkEyXkFqcGdeQXVyMjM4NTM5NDY@._V1_.jpg', 'caption': {'plainText': 'Jason Schwartzman, Viola Davis, Peter Dinklage, Rachel Zegler, Josh Andrés Rivera, Tom Blyth, and Hunter Schafer in The Hunger Games: The Ballad of Songbirds and Snakes (2023)', '__typename': 'Markdown'}, '__typename': 'Image'}, 'titleType': {'displayableProperty': {'value': {'plainText': '', '__typename': 'Markdown'}, '__typename': 'DisplayableTitleTypeProperty'}, 'text': 'Movie', 'id': 'movie', 'isSeries': False, 'isEpisode': False, 'categories': [{'value': 'movie', '__typename': 'TitleTypeCategory'}], 'canHaveEpisodes': False, '__typename': 'TitleType'}, 'titleText': {'text': 'The Hunger Games: The Ballad of Songbirds and Snakes', '__typename': 'TitleText'}, 'originalTitleText': {'text': 'The Hunger Games: The Ballad of Songbirds and Snakes', '__typename': 'TitleText'}, 'releaseYear': {'year': 2023, 'endYear': None, '__typename': 'YearRange'}, 'releaseDate': {'day': 16, 'month': 11, 'year': 2023, '__typename': 'ReleaseDate'}}, {'_id': '61e58e71d8f3c0931e44615b', 'id': 'tt10548482', 'primaryImage': {'id': 'rm1798413825', 'width': 1920, 'height': 1280, 'url': 'https://m.media-amazon.com/images/M/MV5BMGE4OGY1OTEtMzM2Yi00MjM5LTg2YmItZGM5YWQ4Y2ZiOTIwXkEyXkFqcGdeQXVyMTA0NzgxOTU4._V1_.jpg', 'caption': {'plainText': 'Raw Power (2023)', '__typename': 'Markdown'}, '__typename': 'Image'}, 'titleType': {'displayableProperty': {'value': {'plainText': '', '__typename': 'Markdown'}, '__typename': 'DisplayableTitleTypeProperty'}, 'text': 'Movie', 'id': 'movie', 'isSeries': False, 'isEpisode': False, 'categories': [{'value': 'movie', '__typename': 'TitleTypeCategory'}], 'canHaveEpisodes': False, '__typename': 'TitleType'}, 'titleText': {'text': 'Raw Power', '__typename': 'TitleText'}, 'originalTitleText': {'text': 'Raw Power', '__typename': 'TitleText'}, 'releaseYear': {'year': 2023, 'endYear': None, '__typename': 'YearRange'}, 'releaseDate': {'day': 12, 'month': 5, 'year': 2023, '__typename': 'ReleaseDate'}}, {'_id': '61e58f6ee1a8ddbd96449ec3', 'id': 'tt10714820', 'primaryImage': {'id': 'rm2746228993', 'width': 3000, 'height': 4500, 'url': 'https://m.media-amazon.com/images/M/MV5BMzI1MDdmYTEtNDk1YS00MjY3LTkwZTctMmJlY2NlODg4NTI2XkEyXkFqcGdeQXVyMTQ4NTIzMzUz._V1_.jpg', 'caption': {'plainText': 'Michael Sheen, Niamh Moriarty, and Sharon Horgan in Best Interests (2023)', '__typename': 'Markdown'}, '__typename': 'Image'}, 'titleType': {'displayableProperty': {'value': {'plainText': 'TV Series', '__typename': 'Markdown'}, '__typename': 'DisplayableTitleTypeProperty'}, 'text': 'TV Series', 'id': 'tvSeries', 'isSeries': True, 'isEpisode': False, 'categories': [{'value': 'tv', '__typename': 'TitleTypeCategory'}], 'canHaveEpisodes': True, '__typename': 'TitleType'}, 'titleText': {'text': 'Best Interests', '__typename': 'TitleText'}, 'originalTitleText': {'text': 'Best Interests', '__typename': 'TitleText'}, 'releaseYear': {'year': 2023, 'endYear': 2023, '__typename': 'YearRange'}, 'releaseDate': {'day': 12, 'month': 6, 'year': 2023, '__typename': 'ReleaseDate'}}, {'_id': '61e58f7a8a5a6a599f44a2f7', 'id': 'tt10719706', 'primaryImage': {'id': 'rm2455671297', 'width': 5120, 'height': 2700, 'url': 'https://m.media-amazon.com/images/M/MV5BNDkzMDhjODctMmM4ZS00MDNiLWI4ZjgtZjUzNjk5MDE2MDIwXkEyXkFqcGdeQXVyMTQyNjQyMQ@@._V1_.jpg', 'caption': {'plainText': \"Anna Cibbarelli in Crimson's Ladder (2021)\", '__typename': 'Markdown'}, '__typename': 'Image'}, 'titleType': {'displayableProperty': {'value': {'plainText': 'TV Episode', '__typename': 'Markdown'}, '__typename': 'DisplayableTitleTypeProperty'}, 'text': 'TV Episode', 'id': 'tvEpisode', 'isSeries': False, 'isEpisode': True, 'categories': [{'value': 'tv', '__typename': 'TitleTypeCategory'}], 'canHaveEpisodes': False, '__typename': 'TitleType'}, 'titleText': {'text': 'The New Crim', '__typename': 'TitleText'}, 'originalTitleText': {'text': 'The New Crim', '__typename': 'TitleText'}, 'releaseYear': {'year': 2023, 'endYear': None, '__typename': 'YearRange'}, 'releaseDate': {'day': 1, 'month': 2, 'year': 2023, '__typename': 'ReleaseDate'}}, {'_id': '61e58fbf95801a78bc44b441', 'id': 'tt10767052', 'primaryImage': {'id': 'rm245586945', 'width': 1334, 'height': 2000, 'url': 'https://m.media-amazon.com/images/M/MV5BNDIwNWQwYTktZGQwYS00NzNjLThhNDMtODBlYmI5N2E0NjM0XkEyXkFqcGdeQXVyMDM2NDM2MQ@@._V1_.jpg', 'caption': {'plainText': 'Next Goal Wins (2023)', '__typename': 'Markdown'}, '__typename': 'Image'}, 'titleType': {'displayableProperty': {'value': {'plainText': '', '__typename': 'Markdown'}, '__typename': 'DisplayableTitleTypeProperty'}, 'text': 'Movie', 'id': 'movie', 'isSeries': False, 'isEpisode': False, 'categories': [{'value': 'movie', '__typename': 'TitleTypeCategory'}], 'canHaveEpisodes': False, '__typename': 'TitleType'}, 'titleText': {'text': 'Next Goal Wins', '__typename': 'TitleText'}, 'originalTitleText': {'text': 'Next Goal Wins', '__typename': 'TitleText'}, 'releaseYear': {'year': 2023, 'endYear': None, '__typename': 'YearRange'}, 'releaseDate': {'day': 17, 'month': 11, 'year': 2023, '__typename': 'ReleaseDate'}}, {'_id': '61e59000909c2ca78144c1f9', 'id': 'tt10811324', 'primaryImage': None, 'titleType': {'displayableProperty': {'value': {'plainText': 'Video Game', '__typename': 'Markdown'}, '__typename': 'DisplayableTitleTypeProperty'}, 'text': 'Video Game', 'id': 'videoGame', 'isSeries': False, 'isEpisode': False, 'categories': [{'value': 'gaming', '__typename': 'TitleTypeCategory'}], 'canHaveEpisodes': False, '__typename': 'TitleType'}, 'titleText': {'text': \"Devil's Life\", '__typename': 'TitleText'}, 'originalTitleText': {'text': \"Devil's Life\", '__typename': 'TitleText'}, 'releaseYear': {'year': 2023, 'endYear': None, '__typename': 'YearRange'}, 'releaseDate': {'day': 1, 'month': 5, 'year': 2024, '__typename': 'ReleaseDate'}}]}\n",
      "200\n"
     ]
    },
    {
     "data": {
      "text/plain": [
       "{'page': '2',\n",
       " 'next': '/titles?endYear=2023&page=3&startYear=1990&genre=Drama',\n",
       " 'entries': 10,\n",
       " 'results': [{'_id': '61e58d01cffb8f2faa440749',\n",
       "   'id': 'tt10307012',\n",
       "   'primaryImage': {'id': 'rm2494628097',\n",
       "    'width': 1920,\n",
       "    'height': 1080,\n",
       "    'url': 'https://m.media-amazon.com/images/M/MV5BNGQ4NTY0ZGQtMjczMi00ZjUyLThlYzctMDkwNzI5MDMxM2U2XkEyXkFqcGdeQXVyMTAxMDAwMTg4._V1_.jpg',\n",
       "    'caption': {'plainText': 'Laurine Price in And Yet I Am (2023)',\n",
       "     '__typename': 'Markdown'},\n",
       "    '__typename': 'Image'},\n",
       "   'titleType': {'displayableProperty': {'value': {'plainText': 'TV Episode',\n",
       "      '__typename': 'Markdown'},\n",
       "     '__typename': 'DisplayableTitleTypeProperty'},\n",
       "    'text': 'TV Episode',\n",
       "    'id': 'tvEpisode',\n",
       "    'isSeries': False,\n",
       "    'isEpisode': True,\n",
       "    'categories': [{'value': 'tv', '__typename': 'TitleTypeCategory'}],\n",
       "    'canHaveEpisodes': False,\n",
       "    '__typename': 'TitleType'},\n",
       "   'titleText': {'text': 'And Yet I Am', '__typename': 'TitleText'},\n",
       "   'originalTitleText': {'text': 'And Yet I Am', '__typename': 'TitleText'},\n",
       "   'releaseYear': {'year': 2023, 'endYear': None, '__typename': 'YearRange'},\n",
       "   'releaseDate': {'day': None,\n",
       "    'month': None,\n",
       "    'year': 2023,\n",
       "    '__typename': 'ReleaseDate'}},\n",
       "  {'_id': '61e58d3f78c012aa34441653',\n",
       "   'id': 'tt10351180',\n",
       "   'primaryImage': {'id': 'rm2857219841',\n",
       "    'width': 960,\n",
       "    'height': 1280,\n",
       "    'url': 'https://m.media-amazon.com/images/M/MV5BMjcyMDE3YTgtZDQ3Ni00NWRiLWE2NTctZDU4MjE2MzU5YTgyXkEyXkFqcGdeQXVyODE5NzE3OTE@._V1_.jpg',\n",
       "    'caption': {'plainText': 'Amrin Qureshi and Namashi Chakraborthy in Bad Boy (2023)',\n",
       "     '__typename': 'Markdown'},\n",
       "    '__typename': 'Image'},\n",
       "   'titleType': {'displayableProperty': {'value': {'plainText': '',\n",
       "      '__typename': 'Markdown'},\n",
       "     '__typename': 'DisplayableTitleTypeProperty'},\n",
       "    'text': 'Movie',\n",
       "    'id': 'movie',\n",
       "    'isSeries': False,\n",
       "    'isEpisode': False,\n",
       "    'categories': [{'value': 'movie', '__typename': 'TitleTypeCategory'}],\n",
       "    'canHaveEpisodes': False,\n",
       "    '__typename': 'TitleType'},\n",
       "   'titleText': {'text': 'Bad Boy', '__typename': 'TitleText'},\n",
       "   'originalTitleText': {'text': 'Bad Boy', '__typename': 'TitleText'},\n",
       "   'releaseYear': {'year': 2023, 'endYear': None, '__typename': 'YearRange'},\n",
       "   'releaseDate': {'day': 28,\n",
       "    'month': 4,\n",
       "    'year': 2023,\n",
       "    '__typename': 'ReleaseDate'}},\n",
       "  {'_id': '61e58d5bd735dff3f944202b',\n",
       "   'id': 'tt10369484',\n",
       "   'primaryImage': {'id': 'rm3421583105',\n",
       "    'width': 1944,\n",
       "    'height': 2880,\n",
       "    'url': 'https://m.media-amazon.com/images/M/MV5BZGQzODIyNWItZTVmZS00OWJjLThkOTItNjMzNmI4MDU1ZTkzXkEyXkFqcGdeQXVyMTQzNTA5MzYz._V1_.jpg',\n",
       "    'caption': {'plainText': 'The Power (2023)', '__typename': 'Markdown'},\n",
       "    '__typename': 'Image'},\n",
       "   'titleType': {'displayableProperty': {'value': {'plainText': 'TV Series',\n",
       "      '__typename': 'Markdown'},\n",
       "     '__typename': 'DisplayableTitleTypeProperty'},\n",
       "    'text': 'TV Series',\n",
       "    'id': 'tvSeries',\n",
       "    'isSeries': True,\n",
       "    'isEpisode': False,\n",
       "    'categories': [{'value': 'tv', '__typename': 'TitleTypeCategory'}],\n",
       "    'canHaveEpisodes': True,\n",
       "    '__typename': 'TitleType'},\n",
       "   'titleText': {'text': 'The Power', '__typename': 'TitleText'},\n",
       "   'originalTitleText': {'text': 'The Power', '__typename': 'TitleText'},\n",
       "   'releaseYear': {'year': 2023, 'endYear': None, '__typename': 'YearRange'},\n",
       "   'releaseDate': {'day': 31,\n",
       "    'month': 3,\n",
       "    'year': 2023,\n",
       "    '__typename': 'ReleaseDate'}},\n",
       "  {'_id': '61e58db495801a78bc4436ed',\n",
       "   'id': 'tt10425998',\n",
       "   'primaryImage': {'id': 'rm223189249',\n",
       "    'width': 1728,\n",
       "    'height': 2304,\n",
       "    'url': 'https://m.media-amazon.com/images/M/MV5BYTBlYzE4MTgtZGVmNy00NjUyLWFmYWItZTJlMzA2ODBiNjJhXkEyXkFqcGdeQXVyNDgwNjAyMQ@@._V1_.jpg',\n",
       "    'caption': {'plainText': 'Valerie Michelson in The Place in Between (2023)',\n",
       "     '__typename': 'Markdown'},\n",
       "    '__typename': 'Image'},\n",
       "   'titleType': {'displayableProperty': {'value': {'plainText': '',\n",
       "      '__typename': 'Markdown'},\n",
       "     '__typename': 'DisplayableTitleTypeProperty'},\n",
       "    'text': 'Movie',\n",
       "    'id': 'movie',\n",
       "    'isSeries': False,\n",
       "    'isEpisode': False,\n",
       "    'categories': [{'value': 'movie', '__typename': 'TitleTypeCategory'}],\n",
       "    'canHaveEpisodes': False,\n",
       "    '__typename': 'TitleType'},\n",
       "   'titleText': {'text': 'The Place in Between', '__typename': 'TitleText'},\n",
       "   'originalTitleText': {'text': 'The Place in Between',\n",
       "    '__typename': 'TitleText'},\n",
       "   'releaseYear': {'year': 2023, 'endYear': None, '__typename': 'YearRange'},\n",
       "   'releaseDate': {'day': 4,\n",
       "    'month': 7,\n",
       "    'year': 2023,\n",
       "    '__typename': 'ReleaseDate'}},\n",
       "  {'_id': '61e58e6b8a5a6a599f4461c3',\n",
       "   'id': 'tt10545296',\n",
       "   'primaryImage': {'id': 'rm770462209',\n",
       "    'width': 1728,\n",
       "    'height': 2664,\n",
       "    'url': 'https://m.media-amazon.com/images/M/MV5BOTZmMmY2MzctMjU2Yy00YjJlLTk1NjAtY2U4MmMxOWZkZWY4XkEyXkFqcGdeQXVyMjM4NTM5NDY@._V1_.jpg',\n",
       "    'caption': {'plainText': 'Jason Schwartzman, Viola Davis, Peter Dinklage, Rachel Zegler, Josh Andrés Rivera, Tom Blyth, and Hunter Schafer in The Hunger Games: The Ballad of Songbirds and Snakes (2023)',\n",
       "     '__typename': 'Markdown'},\n",
       "    '__typename': 'Image'},\n",
       "   'titleType': {'displayableProperty': {'value': {'plainText': '',\n",
       "      '__typename': 'Markdown'},\n",
       "     '__typename': 'DisplayableTitleTypeProperty'},\n",
       "    'text': 'Movie',\n",
       "    'id': 'movie',\n",
       "    'isSeries': False,\n",
       "    'isEpisode': False,\n",
       "    'categories': [{'value': 'movie', '__typename': 'TitleTypeCategory'}],\n",
       "    'canHaveEpisodes': False,\n",
       "    '__typename': 'TitleType'},\n",
       "   'titleText': {'text': 'The Hunger Games: The Ballad of Songbirds and Snakes',\n",
       "    '__typename': 'TitleText'},\n",
       "   'originalTitleText': {'text': 'The Hunger Games: The Ballad of Songbirds and Snakes',\n",
       "    '__typename': 'TitleText'},\n",
       "   'releaseYear': {'year': 2023, 'endYear': None, '__typename': 'YearRange'},\n",
       "   'releaseDate': {'day': 16,\n",
       "    'month': 11,\n",
       "    'year': 2023,\n",
       "    '__typename': 'ReleaseDate'}},\n",
       "  {'_id': '61e58e71d8f3c0931e44615b',\n",
       "   'id': 'tt10548482',\n",
       "   'primaryImage': {'id': 'rm1798413825',\n",
       "    'width': 1920,\n",
       "    'height': 1280,\n",
       "    'url': 'https://m.media-amazon.com/images/M/MV5BMGE4OGY1OTEtMzM2Yi00MjM5LTg2YmItZGM5YWQ4Y2ZiOTIwXkEyXkFqcGdeQXVyMTA0NzgxOTU4._V1_.jpg',\n",
       "    'caption': {'plainText': 'Raw Power (2023)', '__typename': 'Markdown'},\n",
       "    '__typename': 'Image'},\n",
       "   'titleType': {'displayableProperty': {'value': {'plainText': '',\n",
       "      '__typename': 'Markdown'},\n",
       "     '__typename': 'DisplayableTitleTypeProperty'},\n",
       "    'text': 'Movie',\n",
       "    'id': 'movie',\n",
       "    'isSeries': False,\n",
       "    'isEpisode': False,\n",
       "    'categories': [{'value': 'movie', '__typename': 'TitleTypeCategory'}],\n",
       "    'canHaveEpisodes': False,\n",
       "    '__typename': 'TitleType'},\n",
       "   'titleText': {'text': 'Raw Power', '__typename': 'TitleText'},\n",
       "   'originalTitleText': {'text': 'Raw Power', '__typename': 'TitleText'},\n",
       "   'releaseYear': {'year': 2023, 'endYear': None, '__typename': 'YearRange'},\n",
       "   'releaseDate': {'day': 12,\n",
       "    'month': 5,\n",
       "    'year': 2023,\n",
       "    '__typename': 'ReleaseDate'}},\n",
       "  {'_id': '61e58f6ee1a8ddbd96449ec3',\n",
       "   'id': 'tt10714820',\n",
       "   'primaryImage': {'id': 'rm2746228993',\n",
       "    'width': 3000,\n",
       "    'height': 4500,\n",
       "    'url': 'https://m.media-amazon.com/images/M/MV5BMzI1MDdmYTEtNDk1YS00MjY3LTkwZTctMmJlY2NlODg4NTI2XkEyXkFqcGdeQXVyMTQ4NTIzMzUz._V1_.jpg',\n",
       "    'caption': {'plainText': 'Michael Sheen, Niamh Moriarty, and Sharon Horgan in Best Interests (2023)',\n",
       "     '__typename': 'Markdown'},\n",
       "    '__typename': 'Image'},\n",
       "   'titleType': {'displayableProperty': {'value': {'plainText': 'TV Series',\n",
       "      '__typename': 'Markdown'},\n",
       "     '__typename': 'DisplayableTitleTypeProperty'},\n",
       "    'text': 'TV Series',\n",
       "    'id': 'tvSeries',\n",
       "    'isSeries': True,\n",
       "    'isEpisode': False,\n",
       "    'categories': [{'value': 'tv', '__typename': 'TitleTypeCategory'}],\n",
       "    'canHaveEpisodes': True,\n",
       "    '__typename': 'TitleType'},\n",
       "   'titleText': {'text': 'Best Interests', '__typename': 'TitleText'},\n",
       "   'originalTitleText': {'text': 'Best Interests', '__typename': 'TitleText'},\n",
       "   'releaseYear': {'year': 2023, 'endYear': 2023, '__typename': 'YearRange'},\n",
       "   'releaseDate': {'day': 12,\n",
       "    'month': 6,\n",
       "    'year': 2023,\n",
       "    '__typename': 'ReleaseDate'}},\n",
       "  {'_id': '61e58f7a8a5a6a599f44a2f7',\n",
       "   'id': 'tt10719706',\n",
       "   'primaryImage': {'id': 'rm2455671297',\n",
       "    'width': 5120,\n",
       "    'height': 2700,\n",
       "    'url': 'https://m.media-amazon.com/images/M/MV5BNDkzMDhjODctMmM4ZS00MDNiLWI4ZjgtZjUzNjk5MDE2MDIwXkEyXkFqcGdeQXVyMTQyNjQyMQ@@._V1_.jpg',\n",
       "    'caption': {'plainText': \"Anna Cibbarelli in Crimson's Ladder (2021)\",\n",
       "     '__typename': 'Markdown'},\n",
       "    '__typename': 'Image'},\n",
       "   'titleType': {'displayableProperty': {'value': {'plainText': 'TV Episode',\n",
       "      '__typename': 'Markdown'},\n",
       "     '__typename': 'DisplayableTitleTypeProperty'},\n",
       "    'text': 'TV Episode',\n",
       "    'id': 'tvEpisode',\n",
       "    'isSeries': False,\n",
       "    'isEpisode': True,\n",
       "    'categories': [{'value': 'tv', '__typename': 'TitleTypeCategory'}],\n",
       "    'canHaveEpisodes': False,\n",
       "    '__typename': 'TitleType'},\n",
       "   'titleText': {'text': 'The New Crim', '__typename': 'TitleText'},\n",
       "   'originalTitleText': {'text': 'The New Crim', '__typename': 'TitleText'},\n",
       "   'releaseYear': {'year': 2023, 'endYear': None, '__typename': 'YearRange'},\n",
       "   'releaseDate': {'day': 1,\n",
       "    'month': 2,\n",
       "    'year': 2023,\n",
       "    '__typename': 'ReleaseDate'}},\n",
       "  {'_id': '61e58fbf95801a78bc44b441',\n",
       "   'id': 'tt10767052',\n",
       "   'primaryImage': {'id': 'rm245586945',\n",
       "    'width': 1334,\n",
       "    'height': 2000,\n",
       "    'url': 'https://m.media-amazon.com/images/M/MV5BNDIwNWQwYTktZGQwYS00NzNjLThhNDMtODBlYmI5N2E0NjM0XkEyXkFqcGdeQXVyMDM2NDM2MQ@@._V1_.jpg',\n",
       "    'caption': {'plainText': 'Next Goal Wins (2023)',\n",
       "     '__typename': 'Markdown'},\n",
       "    '__typename': 'Image'},\n",
       "   'titleType': {'displayableProperty': {'value': {'plainText': '',\n",
       "      '__typename': 'Markdown'},\n",
       "     '__typename': 'DisplayableTitleTypeProperty'},\n",
       "    'text': 'Movie',\n",
       "    'id': 'movie',\n",
       "    'isSeries': False,\n",
       "    'isEpisode': False,\n",
       "    'categories': [{'value': 'movie', '__typename': 'TitleTypeCategory'}],\n",
       "    'canHaveEpisodes': False,\n",
       "    '__typename': 'TitleType'},\n",
       "   'titleText': {'text': 'Next Goal Wins', '__typename': 'TitleText'},\n",
       "   'originalTitleText': {'text': 'Next Goal Wins', '__typename': 'TitleText'},\n",
       "   'releaseYear': {'year': 2023, 'endYear': None, '__typename': 'YearRange'},\n",
       "   'releaseDate': {'day': 17,\n",
       "    'month': 11,\n",
       "    'year': 2023,\n",
       "    '__typename': 'ReleaseDate'}},\n",
       "  {'_id': '61e59000909c2ca78144c1f9',\n",
       "   'id': 'tt10811324',\n",
       "   'primaryImage': None,\n",
       "   'titleType': {'displayableProperty': {'value': {'plainText': 'Video Game',\n",
       "      '__typename': 'Markdown'},\n",
       "     '__typename': 'DisplayableTitleTypeProperty'},\n",
       "    'text': 'Video Game',\n",
       "    'id': 'videoGame',\n",
       "    'isSeries': False,\n",
       "    'isEpisode': False,\n",
       "    'categories': [{'value': 'gaming', '__typename': 'TitleTypeCategory'}],\n",
       "    'canHaveEpisodes': False,\n",
       "    '__typename': 'TitleType'},\n",
       "   'titleText': {'text': \"Devil's Life\", '__typename': 'TitleText'},\n",
       "   'originalTitleText': {'text': \"Devil's Life\", '__typename': 'TitleText'},\n",
       "   'releaseYear': {'year': 2023, 'endYear': None, '__typename': 'YearRange'},\n",
       "   'releaseDate': {'day': 1,\n",
       "    'month': 5,\n",
       "    'year': 2024,\n",
       "    '__typename': 'ReleaseDate'}}]}"
      ]
     },
     "execution_count": 114,
     "metadata": {},
     "output_type": "execute_result"
    }
   ],
   "source": [
    "import requests\n",
    "\n",
    "url = \"https://moviesdatabase.p.rapidapi.com/titles?endYear=2023&startYear=1990&genre=Drama&page=2\"\n",
    "#querystring = {\"endYear\":\"2023\",\"page\":\"1\",\"startYear\":\"1990\",\"genre\":\"Drama\"}\n",
    "\n",
    "headers = {\n",
    "\t\"X-RapidAPI-Key\": \"a70ffcc084mshcc839d466994dc6p11e747jsnf85be658e6fd\",\n",
    "\t\"X-RapidAPI-Host\": \"moviesdatabase.p.rapidapi.com\"\n",
    "}\n",
    "\n",
    "response = requests.get(url,headers=headers)\n",
    "#headers=headers, \n",
    "params=querystring\n",
    "print(response.json())\n",
    "print(response.status_code)\n",
    "response.json()\n"
   ]
  },
  {
   "cell_type": "code",
   "execution_count": 90,
   "metadata": {},
   "outputs": [],
   "source": [
    "json_drama = response.json()"
   ]
  },
  {
   "cell_type": "code",
   "execution_count": 91,
   "metadata": {},
   "outputs": [
    {
     "data": {
      "text/plain": [
       "dict_keys(['page', 'next', 'entries', 'results'])"
      ]
     },
     "execution_count": 91,
     "metadata": {},
     "output_type": "execute_result"
    }
   ],
   "source": [
    "json_drama.keys()"
   ]
  },
  {
   "cell_type": "code",
   "execution_count": 92,
   "metadata": {},
   "outputs": [
    {
     "data": {
      "text/plain": [
       "10"
      ]
     },
     "execution_count": 92,
     "metadata": {},
     "output_type": "execute_result"
    }
   ],
   "source": [
    "len(json_drama['results'])"
   ]
  },
  {
   "cell_type": "code",
   "execution_count": 93,
   "metadata": {},
   "outputs": [
    {
     "data": {
      "text/plain": [
       "dict_keys(['_id', 'id', 'primaryImage', 'titleType', 'titleText', 'originalTitleText', 'releaseYear', 'releaseDate'])"
      ]
     },
     "execution_count": 93,
     "metadata": {},
     "output_type": "execute_result"
    }
   ],
   "source": [
    "json_drama['results'][0].keys()"
   ]
  },
  {
   "cell_type": "code",
   "execution_count": 94,
   "metadata": {},
   "outputs": [
    {
     "data": {
      "text/plain": [
       "{'_id': '61e58bc5b597b91eb943bb57',\n",
       " 'id': 'tt10100318',\n",
       " 'primaryImage': {'id': 'rm3903122689',\n",
       "  'width': 1800,\n",
       "  'height': 2700,\n",
       "  'url': 'https://m.media-amazon.com/images/M/MV5BYjUxYzg5MjktM2Q3My00ODM5LThjYTQtMjdkMzM2ZTQ0NTY2XkEyXkFqcGdeQXVyMTAxMDAwMTg4._V1_.jpg',\n",
       "  'caption': {'plainText': 'Dominic Keating, Kathleen Kinmont, Carmen Moreno, Ricco Ross, Garrett Wang, Douglas Weston, Michael Broderick, Laurine Price, Grace Byers, and Raffael Ponce-Valencia in Phoenix (2023)',\n",
       "   '__typename': 'Markdown'},\n",
       "  '__typename': 'Image'},\n",
       " 'titleType': {'displayableProperty': {'value': {'plainText': 'TV Series',\n",
       "    '__typename': 'Markdown'},\n",
       "   '__typename': 'DisplayableTitleTypeProperty'},\n",
       "  'text': 'TV Series',\n",
       "  'id': 'tvSeries',\n",
       "  'isSeries': True,\n",
       "  'isEpisode': False,\n",
       "  'categories': [{'value': 'tv', '__typename': 'TitleTypeCategory'}],\n",
       "  'canHaveEpisodes': True,\n",
       "  '__typename': 'TitleType'},\n",
       " 'titleText': {'text': 'Phoenix', '__typename': 'TitleText'},\n",
       " 'originalTitleText': {'text': 'Phoenix', '__typename': 'TitleText'},\n",
       " 'releaseYear': {'year': 2023, 'endYear': None, '__typename': 'YearRange'},\n",
       " 'releaseDate': {'day': None,\n",
       "  'month': None,\n",
       "  'year': 2023,\n",
       "  '__typename': 'ReleaseDate'}}"
      ]
     },
     "execution_count": 94,
     "metadata": {},
     "output_type": "execute_result"
    }
   ],
   "source": [
    "json_drama['results'][0]"
   ]
  },
  {
   "cell_type": "code",
   "execution_count": 95,
   "metadata": {},
   "outputs": [
    {
     "data": {
      "text/plain": [
       "'TV Series'"
      ]
     },
     "execution_count": 95,
     "metadata": {},
     "output_type": "execute_result"
    }
   ],
   "source": [
    "# Tipo (movie / short)\n",
    "json_drama['results'][0]['titleType']['text']"
   ]
  },
  {
   "cell_type": "code",
   "execution_count": 96,
   "metadata": {},
   "outputs": [
    {
     "data": {
      "text/plain": [
       "'Phoenix'"
      ]
     },
     "execution_count": 96,
     "metadata": {},
     "output_type": "execute_result"
    }
   ],
   "source": [
    "# Nombre pelícual\n",
    "json_drama['results'][0]['originalTitleText']['text']"
   ]
  },
  {
   "cell_type": "code",
   "execution_count": 97,
   "metadata": {},
   "outputs": [
    {
     "data": {
      "text/plain": [
       "2023"
      ]
     },
     "execution_count": 97,
     "metadata": {},
     "output_type": "execute_result"
    }
   ],
   "source": [
    "# Año estreno\n",
    "json_drama['results'][0]['releaseDate']['year']"
   ]
  },
  {
   "cell_type": "code",
   "execution_count": 98,
   "metadata": {},
   "outputs": [
    {
     "name": "stdout",
     "output_type": "stream",
     "text": [
      "None\n"
     ]
    }
   ],
   "source": [
    "# Mes estreno\n",
    "print(json_drama['results'][0]['releaseDate']['month'])"
   ]
  },
  {
   "cell_type": "code",
   "execution_count": 99,
   "metadata": {},
   "outputs": [
    {
     "name": "stdout",
     "output_type": "stream",
     "text": [
      "tt10100318\n"
     ]
    }
   ],
   "source": [
    "# ID película\n",
    "print(json_drama['results'][0]['id'])"
   ]
  },
  {
   "cell_type": "code",
   "execution_count": 119,
   "metadata": {},
   "outputs": [
    {
     "ename": "IndentationError",
     "evalue": "unexpected indent (1624082292.py, line 15)",
     "output_type": "error",
     "traceback": [
      "\u001b[0;36m  File \u001b[0;32m\"/tmp/ipykernel_19698/1624082292.py\"\u001b[0;36m, line \u001b[0;32m15\u001b[0m\n\u001b[0;31m    print(response.status_code)\u001b[0m\n\u001b[0m    ^\u001b[0m\n\u001b[0;31mIndentationError\u001b[0m\u001b[0;31m:\u001b[0m unexpected indent\n"
     ]
    }
   ],
   "source": [
    " # orden de cómo vamos a mostrar las peliculas por género\n",
    "def sacar_pelis(url):\n",
    "    \n",
    "    #querystring = {\"endYear\":\"2023\",\"page\":\"1\",\"startYear\":\"1990\",\"genre\":\"Drama\"}\n",
    "    #querystring = {\"page\":\"2\"}\n",
    "    #headers = {\n",
    "    #    \"X-RapidAPI-Key\": \"a70ffcc084mshcc839d466994dc6p11e747jsnf85be658e6fd\",\n",
    "    #    \"X-RapidAPI-Host\": \"moviesdatabase.p.rapidapi.com\"\n",
    "    #}\n",
    "\n",
    "    response = requests.get(url,headers= headers)\n",
    " #headers=headers, \n",
    "    params=querystring\n",
    "    #print(response.json())\n",
    "    print(response.status_code)\n",
    "\n",
    "    diccionario = {'Genero': [],\n",
    "                'Tipo' : [],\n",
    "                'Nombre' : [],\n",
    "                'Año estreno' : [],\n",
    "                'Mes estreno' : [],\n",
    "                'Id' :[]}\n",
    "    for peli in json_drama['results']:\n",
    "        if peli[\"titleType\"][\"text\"] == \"Short\" or peli[\"titleType\"][\"text\"] ==\"Movie\":\n",
    "            #print(peli[\"originalTitleText\"][\"text\"])\n",
    "            diccionario[\"Genero\"].append(\"Drama\")\n",
    "            diccionario[\"Tipo\"].append(peli[\"titleType\"][\"text\"])\n",
    "            diccionario[\"Nombre\"].append(peli[\"originalTitleText\"][\"text\"]) \n",
    "            try: \n",
    "                diccionario[\"Año estreno\"].append(peli[\"releaseDate\"][\"year\"]) \n",
    "            except:\n",
    "                diccionario[\"Año estreno\"].append(\"Por estrenar\")\n",
    "            try:\n",
    "                diccionario[\"Mes estreno\"].append(peli[\"releaseDate\"][\"month\"])\n",
    "            except:\n",
    "                diccionario[\"Mes estreno\"].append(\"Por estrenar\")\n",
    "\n",
    "            diccionario[\"Id\"].append(peli[\"id\"])\n",
    "    return diccionario            \n",
    "      "
   ]
  },
  {
   "cell_type": "code",
   "execution_count": 120,
   "metadata": {},
   "outputs": [
    {
     "name": "stdout",
     "output_type": "stream",
     "text": [
      "401\n"
     ]
    },
    {
     "data": {
      "text/plain": [
       "{'Genero': ['Drama', 'Drama'],\n",
       " 'Tipo': ['Short', 'Movie'],\n",
       " 'Nombre': ['Astray', 'Bambi'],\n",
       " 'Año estreno': [2023, 'Por estrenar'],\n",
       " 'Mes estreno': [6, 'Por estrenar'],\n",
       " 'Id': ['tt10242552', 'tt10298848']}"
      ]
     },
     "execution_count": 120,
     "metadata": {},
     "output_type": "execute_result"
    }
   ],
   "source": [
    "sacar_pelis(url)"
   ]
  },
  {
   "cell_type": "code",
   "execution_count": 117,
   "metadata": {},
   "outputs": [],
   "source": [
    "# luego podemos pasar el dicc a listas:\n",
    "\n",
    "lista_drama = []\n",
    "for peli in json_drama['results']:\n",
    "    \"genero\",\"Nombre\",\"Año\",\"estreno\",\"Mes\",\"estreno\",\"Id\"\n",
    "\n"
   ]
  },
  {
   "cell_type": "code",
   "execution_count": null,
   "metadata": {},
   "outputs": [],
   "source": []
  }
 ],
 "metadata": {
  "kernelspec": {
   "display_name": "base",
   "language": "python",
   "name": "python3"
  },
  "language_info": {
   "codemirror_mode": {
    "name": "ipython",
    "version": 3
   },
   "file_extension": ".py",
   "mimetype": "text/x-python",
   "name": "python",
   "nbconvert_exporter": "python",
   "pygments_lexer": "ipython3",
   "version": "3.9.7"
  }
 },
 "nbformat": 4,
 "nbformat_minor": 2
}
