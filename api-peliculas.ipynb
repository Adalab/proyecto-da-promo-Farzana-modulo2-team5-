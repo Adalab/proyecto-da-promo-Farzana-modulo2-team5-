{
 "cells": [
  {
   "cell_type": "code",
   "execution_count": 22,
   "metadata": {},
   "outputs": [
    {
     "name": "stdout",
     "output_type": "stream",
     "text": [
      "{'page': '1', 'next': '/titles?endYear=2023&page=2&startYear=1990&genre=Drama', 'entries': 10, 'results': [{'_id': '61e58bc5b597b91eb943bb57', 'id': 'tt10100318', 'primaryImage': {'id': 'rm3903122689', 'width': 1800, 'height': 2700, 'url': 'https://m.media-amazon.com/images/M/MV5BYjUxYzg5MjktM2Q3My00ODM5LThjYTQtMjdkMzM2ZTQ0NTY2XkEyXkFqcGdeQXVyMTAxMDAwMTg4._V1_.jpg', 'caption': {'plainText': 'Dominic Keating, Kathleen Kinmont, Carmen Moreno, Ricco Ross, Garrett Wang, Douglas Weston, Michael Broderick, Laurine Price, Grace Byers, and Raffael Ponce-Valencia in Phoenix (2023)', '__typename': 'Markdown'}, '__typename': 'Image'}, 'titleType': {'displayableProperty': {'value': {'plainText': 'TV Series', '__typename': 'Markdown'}, '__typename': 'DisplayableTitleTypeProperty'}, 'text': 'TV Series', 'id': 'tvSeries', 'isSeries': True, 'isEpisode': False, 'categories': [{'value': 'tv', '__typename': 'TitleTypeCategory'}], 'canHaveEpisodes': True, '__typename': 'TitleType'}, 'titleText': {'text': 'Phoenix', '__typename': 'TitleText'}, 'originalTitleText': {'text': 'Phoenix', '__typename': 'TitleText'}, 'releaseYear': {'year': 2023, 'endYear': None, '__typename': 'YearRange'}, 'releaseDate': {'day': None, 'month': None, 'year': 2023, '__typename': 'ReleaseDate'}}, {'_id': '61e58bd6d735dff3f943c119', 'id': 'tt10112876', 'primaryImage': {'id': 'rm2897281281', 'width': 1920, 'height': 1080, 'url': 'https://m.media-amazon.com/images/M/MV5BZjRmN2JkNWYtYWYwMC00YjUxLWIyODYtNDkwNmJiOTEzY2YyXkEyXkFqcGdeQXVyMTAxMDAwMTg4._V1_.jpg', 'caption': {'plainText': 'Kathleen Kinmont and Laurine Price in The Pitying Sky (2023)', '__typename': 'Markdown'}, '__typename': 'Image'}, 'titleType': {'displayableProperty': {'value': {'plainText': 'TV Episode', '__typename': 'Markdown'}, '__typename': 'DisplayableTitleTypeProperty'}, 'text': 'TV Episode', 'id': 'tvEpisode', 'isSeries': False, 'isEpisode': True, 'categories': [{'value': 'tv', '__typename': 'TitleTypeCategory'}], 'canHaveEpisodes': False, '__typename': 'TitleType'}, 'titleText': {'text': 'The Pitying Sky', '__typename': 'TitleText'}, 'originalTitleText': {'text': 'The Pitying Sky', '__typename': 'TitleText'}, 'releaseYear': {'year': 2023, 'endYear': None, '__typename': 'YearRange'}, 'releaseDate': {'day': None, 'month': None, 'year': 2023, '__typename': 'ReleaseDate'}}, {'_id': '61e58beaa66e59642343c489', 'id': 'tt10121448', 'primaryImage': {'id': 'rm3182493953', 'width': 1920, 'height': 1080, 'url': 'https://m.media-amazon.com/images/M/MV5BMWZjMWY3OGMtNjgzNi00OTlhLWE1YjAtZGE0Y2ZmNDUwNDgxXkEyXkFqcGdeQXVyMTAxMDAwMTg4._V1_.jpg', 'caption': {'plainText': 'Grace Byers in Despite Our Scars (2023)', '__typename': 'Markdown'}, '__typename': 'Image'}, 'titleType': {'displayableProperty': {'value': {'plainText': 'TV Episode', '__typename': 'Markdown'}, '__typename': 'DisplayableTitleTypeProperty'}, 'text': 'TV Episode', 'id': 'tvEpisode', 'isSeries': False, 'isEpisode': True, 'categories': [{'value': 'tv', '__typename': 'TitleTypeCategory'}], 'canHaveEpisodes': False, '__typename': 'TitleType'}, 'titleText': {'text': 'Despite Our Scars', '__typename': 'TitleText'}, 'originalTitleText': {'text': 'Despite Our Scars', '__typename': 'TitleText'}, 'releaseYear': {'year': 2023, 'endYear': None, '__typename': 'YearRange'}, 'releaseDate': {'day': None, 'month': None, 'year': 2023, '__typename': 'ReleaseDate'}}, {'_id': '61e58bee971a4a15d643c5b3', 'id': 'tt10126710', 'primaryImage': {'id': 'rm2528182529', 'width': 1920, 'height': 1080, 'url': 'https://m.media-amazon.com/images/M/MV5BYTJjNmEyMDItZWI5Ni00ZDEwLTg2ZjYtZjc2NGVkNDExOTAyXkEyXkFqcGdeQXVyMTAxMDAwMTg4._V1_.jpg', 'caption': {'plainText': 'Ricco Ross, Garrett Wang, and Michael Broderick in I Stood by the Shore (2023)', '__typename': 'Markdown'}, '__typename': 'Image'}, 'titleType': {'displayableProperty': {'value': {'plainText': 'TV Episode', '__typename': 'Markdown'}, '__typename': 'DisplayableTitleTypeProperty'}, 'text': 'TV Episode', 'id': 'tvEpisode', 'isSeries': False, 'isEpisode': True, 'categories': [{'value': 'tv', '__typename': 'TitleTypeCategory'}], 'canHaveEpisodes': False, '__typename': 'TitleType'}, 'titleText': {'text': 'I Stood by the Shore', '__typename': 'TitleText'}, 'originalTitleText': {'text': 'I Stood by the Shore', '__typename': 'TitleText'}, 'releaseYear': {'year': 2023, 'endYear': None, '__typename': 'YearRange'}, 'releaseDate': {'day': None, 'month': None, 'year': 2023, '__typename': 'ReleaseDate'}}, {'_id': '61e58c10cffb8f2faa43cd1b', 'id': 'tt10150214', 'primaryImage': {'id': 'rm1823745025', 'width': 1040, 'height': 1560, 'url': 'https://m.media-amazon.com/images/M/MV5BNTFhM2NjY2ItNzBlYS00ODY4LThjNWItOGQxNTE2MWY2NThmXkEyXkFqcGdeQXVyNDMyNzMxNzU@._V1_.jpg', 'caption': {'plainText': 'Cannes Confidential (2023)', '__typename': 'Markdown'}, '__typename': 'Image'}, 'titleType': {'displayableProperty': {'value': {'plainText': 'TV Series', '__typename': 'Markdown'}, '__typename': 'DisplayableTitleTypeProperty'}, 'text': 'TV Series', 'id': 'tvSeries', 'isSeries': True, 'isEpisode': False, 'categories': [{'value': 'tv', '__typename': 'TitleTypeCategory'}], 'canHaveEpisodes': True, '__typename': 'TitleType'}, 'titleText': {'text': 'Cannes Confidential', '__typename': 'TitleText'}, 'originalTitleText': {'text': 'Cannes Confidential', '__typename': 'TitleText'}, 'releaseYear': {'year': 2023, 'endYear': 2023, '__typename': 'YearRange'}, 'releaseDate': {'day': 26, 'month': 6, 'year': 2023, '__typename': 'ReleaseDate'}}, {'_id': '61e58c9b909c2ca78143ef47', 'id': 'tt10242552', 'primaryImage': {'id': 'rm574711552', 'width': 1002, 'height': 749, 'url': 'https://m.media-amazon.com/images/M/MV5BODhjMTMzNzgtYTgxYS00NWY2LTk0ZjAtNjVhYjg4YjcxYTk3XkEyXkFqcGdeQXVyNzQ1NjEyMTg@._V1_.jpg', 'caption': {'plainText': 'Astray (2023)', '__typename': 'Markdown'}, '__typename': 'Image'}, 'titleType': {'displayableProperty': {'value': {'plainText': 'Short', '__typename': 'Markdown'}, '__typename': 'DisplayableTitleTypeProperty'}, 'text': 'Short', 'id': 'short', 'isSeries': False, 'isEpisode': False, 'categories': [{'value': 'movie', '__typename': 'TitleTypeCategory'}], 'canHaveEpisodes': False, '__typename': 'TitleType'}, 'titleText': {'text': 'Astray', '__typename': 'TitleText'}, 'originalTitleText': {'text': 'Astray', '__typename': 'TitleText'}, 'releaseYear': {'year': 2023, 'endYear': None, '__typename': 'YearRange'}, 'releaseDate': {'day': 12, 'month': 6, 'year': 2023, '__typename': 'ReleaseDate'}}, {'_id': '61e58ccaa66e59642343fac9', 'id': 'tt10270200', 'primaryImage': {'id': 'rm717968129', 'width': 4000, 'height': 6000, 'url': 'https://m.media-amazon.com/images/M/MV5BMmU1NmU3OGUtMTQ0OS00NTY0LWE0YmUtZWE1ODg0MTAwN2NhXkEyXkFqcGdeQXVyMjAyNjc4Nzc@._V1_.jpg', 'caption': {'plainText': 'Allen Leech and India Mullen in The Vanishing Triangle (2023)', '__typename': 'Markdown'}, '__typename': 'Image'}, 'titleType': {'displayableProperty': {'value': {'plainText': 'TV Series', '__typename': 'Markdown'}, '__typename': 'DisplayableTitleTypeProperty'}, 'text': 'TV Series', 'id': 'tvSeries', 'isSeries': True, 'isEpisode': False, 'categories': [{'value': 'tv', '__typename': 'TitleTypeCategory'}], 'canHaveEpisodes': True, '__typename': 'TitleType'}, 'titleText': {'text': 'The Vanishing Triangle', '__typename': 'TitleText'}, 'originalTitleText': {'text': 'The Vanishing Triangle', '__typename': 'TitleText'}, 'releaseYear': {'year': 2023, 'endYear': None, '__typename': 'YearRange'}, 'releaseDate': {'day': 26, 'month': 10, 'year': 2023, '__typename': 'ReleaseDate'}}, {'_id': '61e58cf595801a78bc4406db', 'id': 'tt10298848', 'primaryImage': None, 'titleType': {'displayableProperty': {'value': {'plainText': '', '__typename': 'Markdown'}, '__typename': 'DisplayableTitleTypeProperty'}, 'text': 'Movie', 'id': 'movie', 'isSeries': False, 'isEpisode': False, 'categories': [{'value': 'movie', '__typename': 'TitleTypeCategory'}], 'canHaveEpisodes': False, '__typename': 'TitleType'}, 'titleText': {'text': 'Bambi', '__typename': 'TitleText'}, 'originalTitleText': {'text': 'Bambi', '__typename': 'TitleText'}, 'releaseYear': {'year': 2023, 'endYear': None, '__typename': 'YearRange'}, 'releaseDate': None}, {'_id': '61e58d018a5a6a599f4409c7', 'id': 'tt10307076', 'primaryImage': {'id': 'rm2289238273', 'width': 1920, 'height': 1080, 'url': 'https://m.media-amazon.com/images/M/MV5BODFkOGY1ODUtMzE5Mi00Njc2LWI5NWYtMGZjYmY5ZTg2OWUyXkEyXkFqcGdeQXVyMTAxMDAwMTg4._V1_.jpg', 'caption': {'plainText': 'Culebra (2023)', '__typename': 'Markdown'}, '__typename': 'Image'}, 'titleType': {'displayableProperty': {'value': {'plainText': 'TV Episode', '__typename': 'Markdown'}, '__typename': 'DisplayableTitleTypeProperty'}, 'text': 'TV Episode', 'id': 'tvEpisode', 'isSeries': False, 'isEpisode': True, 'categories': [{'value': 'tv', '__typename': 'TitleTypeCategory'}], 'canHaveEpisodes': False, '__typename': 'TitleType'}, 'titleText': {'text': 'Culebra', '__typename': 'TitleText'}, 'originalTitleText': {'text': 'Culebra', '__typename': 'TitleText'}, 'releaseYear': {'year': 2023, 'endYear': None, '__typename': 'YearRange'}, 'releaseDate': {'day': None, 'month': None, 'year': 2023, '__typename': 'ReleaseDate'}}, {'_id': '61e58d01b597b91eb944084f', 'id': 'tt10307136', 'primaryImage': {'id': 'rm2490564865', 'width': 1920, 'height': 1080, 'url': 'https://m.media-amazon.com/images/M/MV5BZWE5NWZmYmMtNmYwZi00NWU5LTlmMzMtYzVjYWM1MDE5ODZmXkEyXkFqcGdeQXVyMTAxMDAwMTg4._V1_.jpg', 'caption': {'plainText': 'Until the Stars Come Back (2023)', '__typename': 'Markdown'}, '__typename': 'Image'}, 'titleType': {'displayableProperty': {'value': {'plainText': 'TV Episode', '__typename': 'Markdown'}, '__typename': 'DisplayableTitleTypeProperty'}, 'text': 'TV Episode', 'id': 'tvEpisode', 'isSeries': False, 'isEpisode': True, 'categories': [{'value': 'tv', '__typename': 'TitleTypeCategory'}], 'canHaveEpisodes': False, '__typename': 'TitleType'}, 'titleText': {'text': 'Until the Stars Come Back', '__typename': 'TitleText'}, 'originalTitleText': {'text': 'Until the Stars Come Back', '__typename': 'TitleText'}, 'releaseYear': {'year': 2023, 'endYear': None, '__typename': 'YearRange'}, 'releaseDate': {'day': None, 'month': None, 'year': 2023, '__typename': 'ReleaseDate'}}]}\n",
      "200\n"
     ]
    }
   ],
   "source": [
    "import requests\n",
    "\n",
    "url = \"https://moviesdatabase.p.rapidapi.com/titles\"\n",
    "\n",
    "querystring = {\"endYear\":\"2023\",\"page\":\"1\",\"startYear\":\"1990\",\"genre\":\"Drama\"}\n",
    "\n",
    "headers = {\n",
    "\t\"X-RapidAPI-Key\": \"a70ffcc084mshcc839d466994dc6p11e747jsnf85be658e6fd\",\n",
    "\t\"X-RapidAPI-Host\": \"moviesdatabase.p.rapidapi.com\"\n",
    "}\n",
    "\n",
    "response = requests.get(url, headers=headers, params=querystring)\n",
    "\n",
    "print(response.json())\n",
    "print(response.status_code)\n",
    "\n"
   ]
  },
  {
   "cell_type": "code",
   "execution_count": 23,
   "metadata": {},
   "outputs": [],
   "source": [
    "json_drama = response.json()"
   ]
  },
  {
   "cell_type": "code",
   "execution_count": 24,
   "metadata": {},
   "outputs": [
    {
     "data": {
      "text/plain": [
       "dict_keys(['page', 'next', 'entries', 'results'])"
      ]
     },
     "execution_count": 24,
     "metadata": {},
     "output_type": "execute_result"
    }
   ],
   "source": [
    "json_drama.keys()"
   ]
  },
  {
   "cell_type": "code",
   "execution_count": 25,
   "metadata": {},
   "outputs": [
    {
     "data": {
      "text/plain": [
       "10"
      ]
     },
     "execution_count": 25,
     "metadata": {},
     "output_type": "execute_result"
    }
   ],
   "source": [
    "len(json_drama['results'])"
   ]
  },
  {
   "cell_type": "code",
   "execution_count": 26,
   "metadata": {},
   "outputs": [
    {
     "data": {
      "text/plain": [
       "dict_keys(['_id', 'id', 'primaryImage', 'titleType', 'titleText', 'originalTitleText', 'releaseYear', 'releaseDate'])"
      ]
     },
     "execution_count": 26,
     "metadata": {},
     "output_type": "execute_result"
    }
   ],
   "source": [
    "json_drama['results'][0].keys()"
   ]
  },
  {
   "cell_type": "code",
   "execution_count": 27,
   "metadata": {},
   "outputs": [
    {
     "data": {
      "text/plain": [
       "{'_id': '61e58bc5b597b91eb943bb57',\n",
       " 'id': 'tt10100318',\n",
       " 'primaryImage': {'id': 'rm3903122689',\n",
       "  'width': 1800,\n",
       "  'height': 2700,\n",
       "  'url': 'https://m.media-amazon.com/images/M/MV5BYjUxYzg5MjktM2Q3My00ODM5LThjYTQtMjdkMzM2ZTQ0NTY2XkEyXkFqcGdeQXVyMTAxMDAwMTg4._V1_.jpg',\n",
       "  'caption': {'plainText': 'Dominic Keating, Kathleen Kinmont, Carmen Moreno, Ricco Ross, Garrett Wang, Douglas Weston, Michael Broderick, Laurine Price, Grace Byers, and Raffael Ponce-Valencia in Phoenix (2023)',\n",
       "   '__typename': 'Markdown'},\n",
       "  '__typename': 'Image'},\n",
       " 'titleType': {'displayableProperty': {'value': {'plainText': 'TV Series',\n",
       "    '__typename': 'Markdown'},\n",
       "   '__typename': 'DisplayableTitleTypeProperty'},\n",
       "  'text': 'TV Series',\n",
       "  'id': 'tvSeries',\n",
       "  'isSeries': True,\n",
       "  'isEpisode': False,\n",
       "  'categories': [{'value': 'tv', '__typename': 'TitleTypeCategory'}],\n",
       "  'canHaveEpisodes': True,\n",
       "  '__typename': 'TitleType'},\n",
       " 'titleText': {'text': 'Phoenix', '__typename': 'TitleText'},\n",
       " 'originalTitleText': {'text': 'Phoenix', '__typename': 'TitleText'},\n",
       " 'releaseYear': {'year': 2023, 'endYear': None, '__typename': 'YearRange'},\n",
       " 'releaseDate': {'day': None,\n",
       "  'month': None,\n",
       "  'year': 2023,\n",
       "  '__typename': 'ReleaseDate'}}"
      ]
     },
     "execution_count": 27,
     "metadata": {},
     "output_type": "execute_result"
    }
   ],
   "source": [
    "json_drama['results'][0]"
   ]
  },
  {
   "cell_type": "code",
   "execution_count": 30,
   "metadata": {},
   "outputs": [
    {
     "data": {
      "text/plain": [
       "'TV Series'"
      ]
     },
     "execution_count": 30,
     "metadata": {},
     "output_type": "execute_result"
    }
   ],
   "source": [
    "# Tipo (movie / short)\n",
    "json_drama['results'][0]['titleType']['text']"
   ]
  },
  {
   "cell_type": "code",
   "execution_count": 29,
   "metadata": {},
   "outputs": [
    {
     "data": {
      "text/plain": [
       "'Phoenix'"
      ]
     },
     "execution_count": 29,
     "metadata": {},
     "output_type": "execute_result"
    }
   ],
   "source": [
    "# Nombre pelícual\n",
    "json_drama['results'][0]['originalTitleText']['text']"
   ]
  },
  {
   "cell_type": "code",
   "execution_count": 31,
   "metadata": {},
   "outputs": [
    {
     "data": {
      "text/plain": [
       "dict_keys(['_id', 'id', 'primaryImage', 'titleType', 'titleText', 'originalTitleText', 'releaseYear', 'releaseDate'])"
      ]
     },
     "execution_count": 31,
     "metadata": {},
     "output_type": "execute_result"
    }
   ],
   "source": [
    "# Año estreno\n",
    "json_drama['results'][0]['releaseDate']['year']"
   ]
  },
  {
   "cell_type": "code",
   "execution_count": 34,
   "metadata": {},
   "outputs": [
    {
     "name": "stdout",
     "output_type": "stream",
     "text": [
      "None\n"
     ]
    }
   ],
   "source": [
    "# Mes estreno\n",
    "print(json_drama['results'][0]['releaseDate']['month'])"
   ]
  },
  {
   "cell_type": "code",
   "execution_count": 36,
   "metadata": {},
   "outputs": [
    {
     "name": "stdout",
     "output_type": "stream",
     "text": [
      "tt10100318\n"
     ]
    }
   ],
   "source": [
    "# ID película\n",
    "print(json_drama['results'][0]['id'])"
   ]
  },
  {
   "cell_type": "code",
   "execution_count": null,
   "metadata": {},
   "outputs": [],
   "source": [
    "diccionario = {'Genero': [],\n",
    "               'Tipo' : [],\n",
    "               'Nombre' : [],\n",
    "               'Año estreno' : [],\n",
    "               'Mes estreno' : [],\n",
    "               'Id' :[]}\n",
    "for peli in json_drama['results']:\n",
    "    pass"
   ]
  }
 ],
 "metadata": {
  "kernelspec": {
   "display_name": "base",
   "language": "python",
   "name": "python3"
  },
  "language_info": {
   "codemirror_mode": {
    "name": "ipython",
    "version": 3
   },
   "file_extension": ".py",
   "mimetype": "text/x-python",
   "name": "python",
   "nbconvert_exporter": "python",
   "pygments_lexer": "ipython3",
   "version": "3.9.7"
  }
 },
 "nbformat": 4,
 "nbformat_minor": 2
}
