{
 "cells": [
  {
   "cell_type": "code",
   "execution_count": null,
   "metadata": {},
   "outputs": [],
   "source": [
    "import requests\n",
    "import pandas as pd"
   ]
  },
  {
   "cell_type": "code",
   "execution_count": null,
   "metadata": {},
   "outputs": [],
   "source": [
    "\n",
    "diccionario = {'Genero': [],\n",
    "                    'Tipo' : [],\n",
    "                    'Nombre' : [],\n",
    "                    'Año estreno' : [],\n",
    "                    'Mes estreno' : [],\n",
    "                    'Id' :[]}\n",
    "def sacar_pelis(url, año, genero, diccionario):\n",
    "    \n",
    "    page = 1\n",
    "    while page <= 3 :\n",
    "\n",
    "        querystring = {\"year\":f\"{str(año)}\", \"page\":f\"{str(page)}\",\"genre\":f\"{str(genero)}\", \"limit\":\"50\"}\n",
    "\n",
    "        headers = {\n",
    "            \"X-RapidAPI-Key\": \"a70ffcc084mshcc839d466994dc6p11e747jsnf85be658e6fd\",\n",
    "            \"X-RapidAPI-Host\": \"moviesdatabase.p.rapidapi.com\"\n",
    "        }\n",
    "\n",
    "        response = requests.get(url, headers=headers, params=querystring)\n",
    "        \n",
    "        json_pelis = response.json()\n",
    "\n",
    "        try:\n",
    "            if not json_pelis['results']:\n",
    "                print(json_pelis)\n",
    "        except:\n",
    "            break        \n",
    "        response = requests.get(url,headers= headers)\n",
    "    \n",
    "        print(f\"{page}. La respuesta ha sido: {response.status_code}\")\n",
    "\n",
    "        for peli in json_pelis['results']:\n",
    "            if peli[\"titleType\"][\"text\"] == \"Short\" or peli[\"titleType\"][\"text\"] ==\"Movie\":\n",
    "                diccionario[\"Genero\"].append(genero)\n",
    "                diccionario[\"Tipo\"].append(peli[\"titleType\"][\"text\"])\n",
    "                diccionario[\"Nombre\"].append(peli[\"originalTitleText\"][\"text\"]) \n",
    "                try: \n",
    "                    diccionario[\"Año estreno\"].append(peli[\"releaseDate\"][\"year\"]) \n",
    "                except:\n",
    "                    diccionario[\"Año estreno\"].append(\"Por estrenar\")\n",
    "                try:\n",
    "                    diccionario[\"Mes estreno\"].append(peli[\"releaseDate\"][\"month\"])\n",
    "                except:\n",
    "                    diccionario[\"Mes estreno\"].append(\"Por estrenar\")\n",
    "\n",
    "                diccionario[\"Id\"].append(peli[\"id\"])\n",
    "        page+=1        \n",
    "    return diccionario   \n",
    "\n",
    "   "
   ]
  },
  {
   "cell_type": "code",
   "execution_count": null,
   "metadata": {},
   "outputs": [],
   "source": [
    "url = \"https://moviesdatabase.p.rapidapi.com/titles\"\n",
    "generos = [\"Drama\", \"Comedy\", \"Action\", \"Fantasy\", \"Horror\", \"Mystery\", \"Romance\", \"Thriller\"]\n",
    "for genero in generos:\n",
    "    for año in range(1990, 2024):\n",
    "        diccionario = sacar_pelis(url, año, genero, diccionario)"
   ]
  },
  {
   "cell_type": "code",
   "execution_count": null,
   "metadata": {},
   "outputs": [],
   "source": [
    "#1990 - 1998: Eli\n",
    "#1998 - 2006: Andrea\n",
    "#2006 - 2014: Mael\n",
    "#2014 - 2023: Sara\n",
    "\n",
    "for genero in generos:\n",
    "    diccionario1998 = sacar_pelis(url, 1998, genero, diccionario)"
   ]
  },
  {
   "cell_type": "code",
   "execution_count": 11,
   "metadata": {},
   "outputs": [
    {
     "data": {
      "text/plain": [
       "(12842, 6)"
      ]
     },
     "execution_count": 11,
     "metadata": {},
     "output_type": "execute_result"
    }
   ],
   "source": [
    "tabla_pelis = pd.DataFrame(diccionario) \n",
    "tabla_pelis.shape"
   ]
  }
 ],
 "metadata": {
  "kernelspec": {
   "display_name": "base",
   "language": "python",
   "name": "python3"
  },
  "language_info": {
   "codemirror_mode": {
    "name": "ipython",
    "version": 3
   },
   "file_extension": ".py",
   "mimetype": "text/x-python",
   "name": "python",
   "nbconvert_exporter": "python",
   "pygments_lexer": "ipython3",
   "version": "3.9.7"
  }
 },
 "nbformat": 4,
 "nbformat_minor": 2
}
