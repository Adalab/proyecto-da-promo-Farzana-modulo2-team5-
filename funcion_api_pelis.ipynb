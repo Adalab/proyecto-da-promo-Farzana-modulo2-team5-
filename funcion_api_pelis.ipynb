{
 "cells": [
  {
   "cell_type": "code",
   "execution_count": 6,
   "metadata": {},
   "outputs": [],
   "source": [
    "import requests\n",
    "import pandas as pd"
   ]
  },
  {
   "cell_type": "code",
   "execution_count": 8,
   "metadata": {},
   "outputs": [],
   "source": [
    "\n",
    "diccionario = {'Genero': [],\n",
    "                    'Tipo' : [],\n",
    "                    'Nombre' : [],\n",
    "                    'Año estreno' : [],\n",
    "                    'Mes estreno' : [],\n",
    "                    'Id' :[]}\n",
    "def sacar_pelis(url, año, genero, diccionario):\n",
    "    \n",
    "    page = 1\n",
    "    while page <= 50 :\n",
    "\n",
    "        querystring = {\"year\":f\"{str(año)}\", \"page\":f\"{str(page)}\",\"genre\":f\"{str(genero)}\", \"limit\":\"50\"}\n",
    "\n",
    "        headers = {\n",
    "            \"X-RapidAPI-Key\": \"a70ffcc084mshcc839d466994dc6p11e747jsnf85be658e6fd\",\n",
    "            \"X-RapidAPI-Host\": \"moviesdatabase.p.rapidapi.com\"\n",
    "        }\n",
    "\n",
    "        response = requests.get(url, headers=headers, params=querystring)\n",
    "        \n",
    "        json_pelis = response.json()\n",
    "\n",
    "        try:\n",
    "            if not json_pelis['results']:\n",
    "                print(json_pelis)\n",
    "        except:\n",
    "            break        \n",
    "        response = requests.get(url,headers= headers)\n",
    "    \n",
    "        print(f\"{page}. La respuesta ha sido: {response.status_code}\")\n",
    "\n",
    "        for peli in json_pelis['results']:\n",
    "            if peli[\"titleType\"][\"text\"] == \"Short\" or peli[\"titleType\"][\"text\"] ==\"Movie\":\n",
    "                diccionario[\"Genero\"].append(genero)\n",
    "                diccionario[\"Tipo\"].append(peli[\"titleType\"][\"text\"])\n",
    "                diccionario[\"Nombre\"].append(peli[\"originalTitleText\"][\"text\"]) \n",
    "                try: \n",
    "                    diccionario[\"Año estreno\"].append(peli[\"releaseDate\"][\"year\"]) \n",
    "                except:\n",
    "                    pass\n",
    "                try:\n",
    "                    diccionario[\"Mes estreno\"].append(peli[\"releaseDate\"][\"month\"])\n",
    "                except:\n",
    "                    diccionario[\"Mes estreno\"].append(\"Por estrenar\")\n",
    "\n",
    "                diccionario[\"Id\"].append(peli[\"id\"])\n",
    "        page+=1        \n",
    "    return diccionario   \n",
    "\n",
    "   "
   ]
  },
  {
   "cell_type": "code",
   "execution_count": null,
   "metadata": {},
   "outputs": [],
   "source": [
    "#solucion ana:\n",
    "\n",
    "for tipo in [\"movie\",\"short\"]:\n",
    "    for año in range(1990,2024):\n",
    "        for pagina in range(1,51):\n",
    "            url=f\"https://moviesdatabase.p.rapidapi.com/titles?year={año}¬genre=Thriller&page{pagina}&titleType={tipo}&limit=50\"\n",
    "            \n",
    "            responde =response.get(url)\n",
    "            res_jason=response.json()\n",
    "            \n",
    "            try:\n",
    "                #sacamos datos del aquí res_json[\"results\"]\n",
    "            except:\n",
    "                break\n",
    "            \n",
    "            \n",
    "#cada componente del proyecto se descarga 2 géneros"
   ]
  },
  {
   "cell_type": "code",
   "execution_count": 9,
   "metadata": {},
   "outputs": [
    {
     "name": "stdout",
     "output_type": "stream",
     "text": [
      "1. La respuesta ha sido: 200\n",
      "2. La respuesta ha sido: 200\n",
      "3. La respuesta ha sido: 200\n",
      "4. La respuesta ha sido: 200\n",
      "5. La respuesta ha sido: 200\n",
      "6. La respuesta ha sido: 200\n",
      "7. La respuesta ha sido: 200\n",
      "8. La respuesta ha sido: 200\n",
      "9. La respuesta ha sido: 200\n",
      "10. La respuesta ha sido: 200\n",
      "11. La respuesta ha sido: 200\n",
      "12. La respuesta ha sido: 200\n",
      "13. La respuesta ha sido: 200\n",
      "14. La respuesta ha sido: 200\n",
      "15. La respuesta ha sido: 200\n",
      "16. La respuesta ha sido: 200\n",
      "17. La respuesta ha sido: 200\n",
      "18. La respuesta ha sido: 200\n",
      "19. La respuesta ha sido: 200\n",
      "20. La respuesta ha sido: 200\n",
      "21. La respuesta ha sido: 200\n",
      "22. La respuesta ha sido: 200\n",
      "23. La respuesta ha sido: 200\n",
      "24. La respuesta ha sido: 200\n",
      "25. La respuesta ha sido: 200\n",
      "26. La respuesta ha sido: 200\n",
      "27. La respuesta ha sido: 200\n",
      "28. La respuesta ha sido: 200\n",
      "29. La respuesta ha sido: 200\n",
      "30. La respuesta ha sido: 200\n",
      "31. La respuesta ha sido: 200\n",
      "32. La respuesta ha sido: 200\n",
      "33. La respuesta ha sido: 200\n",
      "34. La respuesta ha sido: 200\n",
      "35. La respuesta ha sido: 200\n",
      "36. La respuesta ha sido: 200\n",
      "37. La respuesta ha sido: 200\n",
      "38. La respuesta ha sido: 200\n",
      "39. La respuesta ha sido: 200\n",
      "40. La respuesta ha sido: 200\n",
      "41. La respuesta ha sido: 200\n",
      "42. La respuesta ha sido: 200\n",
      "43. La respuesta ha sido: 200\n",
      "44. La respuesta ha sido: 200\n",
      "45. La respuesta ha sido: 200\n",
      "46. La respuesta ha sido: 200\n",
      "47. La respuesta ha sido: 200\n",
      "48. La respuesta ha sido: 200\n",
      "49. La respuesta ha sido: 200\n",
      "50. La respuesta ha sido: 200\n",
      "1. La respuesta ha sido: 200\n"
     ]
    }
   ],
   "source": [
    "url = \"https://moviesdatabase.p.rapidapi.com/titles\"\n",
    "generos = [\"Drama\", \"Comedy\", \"Action\", \"Fantasy\", \"Horror\", \"Mystery\", \"Romance\", \"Thriller\"]\n",
    "for genero in generos:\n",
    "    for año in range(1990, 1995):\n",
    "        diccionario90_94 =sacar_pelis(url, año, genero, diccionario)"
   ]
  },
  {
   "cell_type": "code",
   "execution_count": 1,
   "metadata": {},
   "outputs": [
    {
     "ename": "NameError",
     "evalue": "name 'sacar_pelis' is not defined",
     "output_type": "error",
     "traceback": [
      "\u001b[0;31m---------------------------------------------------------------------------\u001b[0m",
      "\u001b[0;31mNameError\u001b[0m                                 Traceback (most recent call last)",
      "\u001b[0;32m/tmp/ipykernel_4639/3927988893.py\u001b[0m in \u001b[0;36m<module>\u001b[0;34m\u001b[0m\n\u001b[1;32m      3\u001b[0m \u001b[0;32mfor\u001b[0m \u001b[0mgenero\u001b[0m \u001b[0;32min\u001b[0m \u001b[0mgeneros\u001b[0m\u001b[0;34m:\u001b[0m\u001b[0;34m\u001b[0m\u001b[0;34m\u001b[0m\u001b[0m\n\u001b[1;32m      4\u001b[0m     \u001b[0;32mfor\u001b[0m \u001b[0maño\u001b[0m \u001b[0;32min\u001b[0m \u001b[0mrange\u001b[0m\u001b[0;34m(\u001b[0m\u001b[0;36m1995\u001b[0m\u001b[0;34m,\u001b[0m \u001b[0;36m1999\u001b[0m\u001b[0;34m)\u001b[0m\u001b[0;34m:\u001b[0m\u001b[0;34m\u001b[0m\u001b[0;34m\u001b[0m\u001b[0m\n\u001b[0;32m----> 5\u001b[0;31m         \u001b[0mdiccionario95_98\u001b[0m \u001b[0;34m=\u001b[0m \u001b[0msacar_pelis\u001b[0m\u001b[0;34m(\u001b[0m\u001b[0murl\u001b[0m\u001b[0;34m,\u001b[0m \u001b[0maño\u001b[0m\u001b[0;34m,\u001b[0m \u001b[0mgenero\u001b[0m\u001b[0;34m,\u001b[0m \u001b[0mdiccionario\u001b[0m\u001b[0;34m)\u001b[0m\u001b[0;34m\u001b[0m\u001b[0;34m\u001b[0m\u001b[0m\n\u001b[0m",
      "\u001b[0;31mNameError\u001b[0m: name 'sacar_pelis' is not defined"
     ]
    }
   ],
   "source": [
    "url = \"https://moviesdatabase.p.rapidapi.com/titles\"\n",
    "generos = [\"Drama\", \"Comedy\", \"Action\", \"Fantasy\", \"Horror\", \"Mystery\", \"Romance\", \"Thriller\"]\n",
    "for genero in generos:\n",
    "    for año in range(1995, 1999):\n",
    "        diccionario95_98 = sacar_pelis(url, año, genero, diccionario)"
   ]
  },
  {
   "cell_type": "code",
   "execution_count": null,
   "metadata": {},
   "outputs": [],
   "source": [
    "#1990 - 1998: Eli\n",
    "#1998 - 2006: Andrea\n",
    "#2006 - 2014: Mael\n",
    "#2014 - 2023: Sara\n",
    "\n",
    "for genero in generos:\n",
    "    #poner en rango del año al año+1 que queramos\n",
    "    for año in range(1990, 1993):\n",
    "       diccionario1990_92 = sacar_pelis(url, año, genero, diccionario)"
   ]
  },
  {
   "cell_type": "code",
   "execution_count": 11,
   "metadata": {},
   "outputs": [
    {
     "data": {
      "text/plain": [
       "(12842, 6)"
      ]
     },
     "execution_count": 11,
     "metadata": {},
     "output_type": "execute_result"
    }
   ],
   "source": [
    "tabla_pelis90_92 = pd.DataFrame(diccionario1990_92) \n",
    "tabla_pelis90_92.to_csv('pelis90_92.csv')"
   ]
  },
  {
   "cell_type": "code",
   "execution_count": null,
   "metadata": {},
   "outputs": [],
   "source": [
    "#df_thriller=pf.read_csv(\"datos_thriller.csv\")\n",
    "#df_thriller\n",
    "df_final=pd.concat([df_thriller,df_drama],axis=0)\n",
    "df_final\n",
    "\n",
    "pandas axis=0 hace referencia a las columnas y axis=1 hace referencia filas"
   ]
  },
  {
   "cell_type": "code",
   "execution_count": null,
   "metadata": {},
   "outputs": [],
   "source": [
    "import requests\n",
    "import pandas as pd\n",
    "\n",
    "diccionario = {'Genero': [],\n",
    "                'Tipo': [],\n",
    "                'Nombre': [],\n",
    "                'Año estreno': [],\n",
    "                'Mes estreno': [],\n",
    "                'Id': []}\n",
    "\n",
    "def sacar_pelis(url, año, genero, diccionario):\n",
    "    page = 1\n",
    "    while page <= 3:\n",
    "        querystring = {\"year\": str(año), \"page\": str(page), \"genre\": genero, \"limit\": \"50\"}\n",
    "\n",
    "        headers = {\n",
    "            \"X-RapidAPI-Key\": \"a70ffcc084mshcc839d466994dc6p11e747jsnf85be658e6fd\",\n",
    "            \"X-RapidAPI-Host\": \"moviesdatabase.p.rapidapi.com\"\n",
    "        }\n",
    "\n",
    "        response = requests.get(url, headers=headers, params=querystring)\n",
    "        json_pelis = response.json()\n",
    "\n",
    "        try:\n",
    "            if not json_pelis['results']:\n",
    "                print(json_pelis)\n",
    "                break\n",
    "        except:\n",
    "            break\n",
    "\n",
    "        print(f\"{page}\")\n",
    "\n",
    "        for peli in json_pelis['results']:\n",
    "            if peli[\"titleType\"][\"text\"] == \"Short\" or peli[\"titleType\"][\"text\"] == \"Movie\":\n",
    "                if peli.get(\"releaseDate\") is not None and peli[\"releaseDate\"].get(\"year\") is not None:\n",
    "                    diccionario[\"Genero\"].append(genero)\n",
    "                    diccionario[\"Tipo\"].append(peli[\"titleType\"][\"text\"])\n",
    "                    diccionario[\"Nombre\"].append(peli[\"originalTitleText\"][\"text\"])\n",
    "                    try:\n",
    "                        diccionario[\"Año estreno\"].append(peli[\"releaseDate\"][\"year\"])\n",
    "                    except:\n",
    "                        diccionario[\"Año estreno\"].append(\"Por estrenar\")\n",
    "                    try:\n",
    "                        diccionario[\"Mes estreno\"].append(peli[\"releaseDate\"][\"month\"])\n",
    "                    except:\n",
    "                        diccionario[\"Mes estreno\"].append(\"Por estrenar\")\n",
    "\n",
    "                    diccionario[\"Id\"].append(peli[\"id\"])\n",
    "\n",
    "                    print(f'Género: {genero}, Tipo: {peli[\"titleType\"][\"text\"]}, Nombre: {peli[\"originalTitleText\"][\"text\"]}, Año de estreno: {diccionario[\"Año estreno\"][-1]}, Mes de estreno: {diccionario[\"Mes estreno\"][-1]}, ID: {peli[\"id\"]}')\n",
    "\n",
    "        page += 1\n",
    "    return diccionario\n",
    "\n",
    "url = \"https://moviesdatabase.p.rapidapi.com/titles\"\n",
    "generos = [\"Drama\", \"Comedy\", \"Action\", \"Fantasy\", \"Horror\", \"Mystery\", \"Romance\", \"Thriller\"]\n",
    "\n",
    "for genero in generos:\n",
    "    for año in range(1990, 2024):\n",
    "        diccionario = sacar_pelis(url, año, genero, diccionario)\n",
    "\n",
    "df = pd.DataFrame(diccionario)\n",
    "print(df)\n"
   ]
  }
 ],
 "metadata": {
  "kernelspec": {
   "display_name": "base",
   "language": "python",
   "name": "python3"
  },
  "language_info": {
   "codemirror_mode": {
    "name": "ipython",
    "version": 3
   },
   "file_extension": ".py",
   "mimetype": "text/x-python",
   "name": "python",
   "nbconvert_exporter": "python",
   "pygments_lexer": "ipython3",
   "version": "3.9.7"
  }
 },
 "nbformat": 4,
 "nbformat_minor": 2
}
