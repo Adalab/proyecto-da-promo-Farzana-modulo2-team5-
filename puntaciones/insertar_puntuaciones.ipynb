{
 "cells": [
  {
   "cell_type": "code",
   "execution_count": 2,
   "metadata": {},
   "outputs": [],
   "source": [
    "#!pip install mysql-connector-python\n",
    "\n",
    "import os\n",
    "import pandas as pd\n",
    "import mysql.connector\n",
    "from  mysql.connector import errorcode\n",
    "import ast"
   ]
  },
  {
   "cell_type": "code",
   "execution_count": 9,
   "metadata": {},
   "outputs": [
    {
     "name": "stdout",
     "output_type": "stream",
     "text": [
      "puntuaciones_1990_1000.csv - no existe\n",
      "puntuaciones_1991_1000.csv - no existe\n",
      "puntuaciones_1992_1000.csv - no existe\n",
      "puntuaciones_1993_1000.csv - no existe\n",
      "puntuaciones_1994_1000.csv - no existe\n",
      "puntuaciones_1995_1000.csv - no existe\n",
      "puntuaciones_1996_1000.csv - no existe\n",
      "puntuaciones_1997_1000.csv - no existe\n",
      "puntuaciones_1998_1000.csv - no existe\n",
      "puntuaciones_1999_1000.csv - no existe\n",
      "puntuaciones_2000_1000.csv - no existe\n",
      "puntuaciones_2001_1000.csv - no existe\n",
      "puntuaciones_2002_1000.csv - no existe\n",
      "puntuaciones_2003_1000.csv - no existe\n",
      "puntuaciones_2004_1000.csv - no existe\n",
      "puntuaciones_2005_1000.csv - no existe\n",
      "puntuaciones_2006_1000.csv - no existe\n",
      "puntuaciones_2007_1000.csv - no existe\n",
      "puntuaciones_2008_1000.csv - no existe\n",
      "puntuaciones_2009_1000.csv - no existe\n",
      "puntuaciones_2010_1000.csv - no existe\n",
      "puntuaciones_2011_1000.csv - no existe\n",
      "puntuaciones_2012_1000.csv - no existe\n",
      "puntuaciones_2013_1000.csv - no existe\n",
      "puntuaciones_2014_1000.csv - no existe\n"
     ]
    }
   ],
   "source": [
    "lista_tuplas_puntuaciones = []\n",
    "\n",
    "for i in range(1990,2024):\n",
    "    \n",
    "    try:\n",
    "        df_puntos = pd.read_csv(f'puntuaciones_{i}_1000.csv')\n",
    "        #df_puntuaciones = df_puntos.dropna(how='any', axis=0) \n",
    "\n",
    "\n",
    "        for fila in df_puntos.values:\n",
    "            lista_tuplas_puntuaciones.append(tuple(fila))\n",
    "    except:\n",
    "        print(f\"puntuaciones_{i}_1000.csv - no existe\")            \n",
    "\n",
    "lista_final_puntuaciones = list(set(lista_tuplas_puntuaciones)) \n"
   ]
  },
  {
   "cell_type": "code",
   "execution_count": 10,
   "metadata": {},
   "outputs": [
    {
     "data": {
      "text/plain": [
       "8215"
      ]
     },
     "execution_count": 10,
     "metadata": {},
     "output_type": "execute_result"
    }
   ],
   "source": [
    "len(lista_final_puntuaciones)"
   ]
  },
  {
   "cell_type": "code",
   "execution_count": 11,
   "metadata": {},
   "outputs": [
    {
     "name": "stdout",
     "output_type": "stream",
     "text": [
      "8215 registros insertados\n"
     ]
    }
   ],
   "source": [
    "#Tabla puntuaciones\n",
    "cnx = mysql.connector.connect(user=\"root\",\n",
    "                               password=\"AlumnaAdalab\",\n",
    "                               host=\"localhost\", database = \"bho_peliculas_3\")\n",
    "\n",
    "mycursor = cnx.cursor()\n",
    "\n",
    "sql_puntuaciones = \"INSERT INTO puntuaciones (id_pelicula, nombre_pelicula, puntos_imdb, puntos_rotten) VALUES (%s, %s, %s, %s)\"\n",
    "\n",
    "try:\n",
    "    mycursor.executemany(sql_puntuaciones, lista_final_puntuaciones)\n",
    "    cnx.commit()\n",
    "    print(mycursor.rowcount, \"registros insertados\")\n",
    "except mysql.connector.Error as err:\n",
    "            print(err)\n",
    "            print(\"Error Code:\", err.errno)\n",
    "            print(\"SQLSTATE\", err.sqlstate)\n",
    "            print(\"Message\", err.msg)\n",
    "            print(\"peliculas - error inserción\")  "
   ]
  }
 ],
 "metadata": {
  "kernelspec": {
   "display_name": "Python 3",
   "language": "python",
   "name": "python3"
  },
  "language_info": {
   "codemirror_mode": {
    "name": "ipython",
    "version": 3
   },
   "file_extension": ".py",
   "mimetype": "text/x-python",
   "name": "python",
   "nbconvert_exporter": "python",
   "pygments_lexer": "ipython3",
   "version": "3.9.13"
  }
 },
 "nbformat": 4,
 "nbformat_minor": 2
}
