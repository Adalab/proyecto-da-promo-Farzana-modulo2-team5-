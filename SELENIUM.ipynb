{
 "cells": [
  {
   "cell_type": "code",
   "execution_count": 2,
   "metadata": {},
   "outputs": [],
   "source": [
    "import pandas as pd\n",
    "from bs4 import BeautifulSoup\n",
    "import requests\n",
    "\n",
    "\n",
    "from selenium import webdriver  # Selenium es una herramienta para automatizar la interacción con navegadores web.\n",
    "from webdriver_manager.chrome import ChromeDriverManager  # ChromeDriverManager gestiona la instalación del controlador de Chrome.\n",
    "from selenium.webdriver.common.keys import Keys  # Keys es útil para simular eventos de teclado en Selenium.\n",
    "from selenium.webdriver.support.ui import Select  # Select se utiliza para interactuar con elementos <select> en páginas web.\n",
    "\n",
    "# Importar librerías para pausar la ejecución\n",
    "# -----------------------------------------------------------------------\n",
    "from time import sleep  # Sleep se utiliza para pausar la ejecución del programa por un número de segundos.\n",
    "\n",
    "# Configuraciones\n",
    "# -----------------------------------------------------------------------\n",
    "\n",
    "pd.set_option('display.max_columns', None)  # Establece una opción de Pandas para mostrar todas las columnas de un DataFrame."
   ]
  },
  {
   "cell_type": "code",
   "execution_count": 9,
   "metadata": {},
   "outputs": [],
   "source": [
    "diccionario = {'Genero': [\"Drama\"],\n",
    "                    'Tipo' : [\"Movie\"],\n",
    "                    'Nombre' : [\"The Hunger Games\"],\n",
    "                    'Año estreno' : [2012],\n",
    "                    'Mes estreno' : [12],\n",
    "                    'Id' :['tt0313462']}\n",
    "\n",
    "\n",
    "driver = webdriver.Chrome()\n",
    "\n",
    "driver.get(\"https://www.imdb.com/search/title/\")\n",
    "\n",
    "driver.maximize_window()\n",
    "\n",
    "sleep(3)\n",
    "#Escribe el título de la pelicula en el buscador\n",
    "driver.find_element(\"css selector\", \"#main > div:nth-child(3) > div.inputs > input\").send_keys(diccionario[\"Nombre\"][0])\n",
    "\n",
    "#Escribe el input del año desde\n",
    "driver.find_element(\"css selector\", \"#main > div:nth-child(5) > div.inputs > input:nth-child(1)\").send_keys(diccionario[\"Año estreno\"][0])\n",
    "#Escribe el input del año hasta\n",
    "driver.find_element(\"css selector\", \"#main > div:nth-child(5) > div.inputs > input:nth-child(2)\").send_keys(diccionario[\"Año estreno\"][0], Keys.ENTER)\n",
    "\n",
    "# Minutos IMDB\n",
    "imdb_minutos = driver.find_element(\"css selector\", \"#main > div > div.lister.list.detail.sub-list > div > div:nth-child(1) > div.lister-item-content > p:nth-child(2) > span.runtime\").text\n",
    "\n",
    "# click en la primera película de la búsquedqa\n",
    "driver.find_element(\"css selector\", \"#main > div > div.lister.list.detail.sub-list > div > div:nth-child(1) > div.lister-item-content > h3 > a\").click()\n",
    "\n",
    "# Puntución IMDB\n",
    "imdb_puntos = driver.find_element(\"css selector\", \"#__next > main > div > section.ipc-page-background.ipc-page-background--base.sc-304f99f6-0.eaRXHu > section > div:nth-child(4) > section > section > div.sc-e226b0e3-3.jJsEuz > div.sc-3a4309f8-0.fjtZsE.sc-dffc6c81-1.fJrHDo > div > div:nth-child(1) > a > span > div > div.sc-bde20123-0.gtEgaf > div.sc-bde20123-2.gYgHoj > span.sc-bde20123-1.iZlgcd\").text\n",
    "\n",
    "\n",
    "# Director IMDB\n",
    "imdb_director = driver.find_element(\"css selector\", \"#__next > main > div > section.ipc-page-background.ipc-page-background--base.sc-304f99f6-0.eaRXHu > section > div:nth-child(4) > section > section > div.sc-e226b0e3-4.ecgcFy > div.sc-e226b0e3-6.hfusNC > div.sc-e226b0e3-10.jcOwsU > section > div.sc-dffc6c81-3.jFHENY > div > ul > li:nth-child(1) > div > ul > li > a\").text\n",
    "\n",
    "# Guionistas IMDB\n",
    "guionistas = []\n",
    "for i in range(1,6):\n",
    "    try: \n",
    "        imdb_guion = driver.find_element(\"css selector\", f\"#__next > main > div > section.ipc-page-background.ipc-page-background--base.sc-304f99f6-0.eaRXHu > section > div:nth-child(4) > section > section > div.sc-e226b0e3-4.ecgcFy > div.sc-e226b0e3-6.hfusNC > div.sc-e226b0e3-10.jcOwsU > section > div.sc-dffc6c81-3.jFHENY > div > ul > li:nth-child(2) > div > ul > li:nth-child({i}) > a\").text\n",
    "        guionistas.append(imdb_guion)\n",
    "    except:\n",
    "        break\n",
    "\n",
    "# Argumento IMDB\n",
    "imdb_argumento = driver.find_element(\"css selector\", \"#__next > main > div > section.ipc-page-background.ipc-page-background--base.sc-304f99f6-0.eaRXHu > section > div:nth-child(4) > section > section > div.sc-e226b0e3-4.ecgcFy > div.sc-e226b0e3-6.hfusNC > div.sc-e226b0e3-10.jcOwsU > section > p > span.sc-466bb6c-2.eVLpWt\").text\n",
    "\n",
    "# Duración IMDB\n",
    "imdb_duracion = driver.find_element(\"css selector\", \"#__next > main > div > section.ipc-page-background.ipc-page-background--base.sc-304f99f6-0.eaRXHu > section > div:nth-child(4) > section > section > div.sc-e226b0e3-3.jJsEuz > div.sc-dffc6c81-0.iwmAVw > ul > li:nth-child(3)\").text\n",
    "\n",
    "\n"
   ]
  },
  {
   "cell_type": "code",
   "execution_count": 19,
   "metadata": {},
   "outputs": [
    {
     "ename": "NoSuchElementException",
     "evalue": "Message: no such element: Unable to locate element: {\"method\":\"xpath\",\"selector\":\"//*[@id=\"search-results\"]/search-page-result[2]/ul/search-page-media-row[1]//li/div[3]/span[1]\"}\n  (Session info: chrome=118.0.5993.118); For documentation on this error, please visit: https://www.selenium.dev/documentation/webdriver/troubleshooting/errors#no-such-element-exception\nStacktrace:\n\tGetHandleVerifier [0x00007FF66B0F8EF2+54786]\n\t(No symbol) [0x00007FF66B065612]\n\t(No symbol) [0x00007FF66AF1A64B]\n\t(No symbol) [0x00007FF66AF5B79C]\n\t(No symbol) [0x00007FF66AF5B91C]\n\t(No symbol) [0x00007FF66AF96D87]\n\t(No symbol) [0x00007FF66AF7BEAF]\n\t(No symbol) [0x00007FF66AF94D02]\n\t(No symbol) [0x00007FF66AF7BC43]\n\t(No symbol) [0x00007FF66AF50941]\n\t(No symbol) [0x00007FF66AF51B84]\n\tGetHandleVerifier [0x00007FF66B447F52+3524194]\n\tGetHandleVerifier [0x00007FF66B49D800+3874576]\n\tGetHandleVerifier [0x00007FF66B495D7F+3843215]\n\tGetHandleVerifier [0x00007FF66B195086+694166]\n\t(No symbol) [0x00007FF66B070A88]\n\t(No symbol) [0x00007FF66B06CA94]\n\t(No symbol) [0x00007FF66B06CBC2]\n\t(No symbol) [0x00007FF66B05CC83]\n\tBaseThreadInitThunk [0x00007FFCD1A4257D+29]\n\tRtlUserThreadStart [0x00007FFCD29EAA78+40]\n",
     "output_type": "error",
     "traceback": [
      "\u001b[1;31m---------------------------------------------------------------------------\u001b[0m",
      "\u001b[1;31mNoSuchElementException\u001b[0m                    Traceback (most recent call last)",
      "\u001b[1;32mc:\\Users\\User\\Desktop\\Adalab\\modulo-2\\modulo-2-proyecto\\proyecto-da-promo-Farzana-modulo2-team5-\\SELENIUM.ipynb Cell 3\u001b[0m line \u001b[0;36m2\n\u001b[0;32m     <a href='vscode-notebook-cell:/c%3A/Users/User/Desktop/Adalab/modulo-2/modulo-2-proyecto/proyecto-da-promo-Farzana-modulo2-team5-/SELENIUM.ipynb#W4sZmlsZQ%3D%3D?line=18'>19</a>\u001b[0m driver\u001b[39m.\u001b[39mfind_element(\u001b[39m\"\u001b[39m\u001b[39mcss selector\u001b[39m\u001b[39m\"\u001b[39m, \u001b[39m\"\u001b[39m\u001b[39m#header-main > search-algolia > search-algolia-controls > input\u001b[39m\u001b[39m\"\u001b[39m)\u001b[39m.\u001b[39msend_keys(\u001b[39mf\u001b[39m\u001b[39m'\u001b[39m\u001b[39m\"\u001b[39m\u001b[39m{\u001b[39;00mdiccionario[\u001b[39m\"\u001b[39m\u001b[39mNombre\u001b[39m\u001b[39m\"\u001b[39m][\u001b[39m0\u001b[39m]\u001b[39m}\u001b[39;00m\u001b[39m\"\u001b[39m\u001b[39m'\u001b[39m, Keys\u001b[39m.\u001b[39mENTER)\n\u001b[0;32m     <a href='vscode-notebook-cell:/c%3A/Users/User/Desktop/Adalab/modulo-2/modulo-2-proyecto/proyecto-da-promo-Farzana-modulo2-team5-/SELENIUM.ipynb#W4sZmlsZQ%3D%3D?line=19'>20</a>\u001b[0m sleep(\u001b[39m4\u001b[39m)\n\u001b[1;32m---> <a href='vscode-notebook-cell:/c%3A/Users/User/Desktop/Adalab/modulo-2/modulo-2-proyecto/proyecto-da-promo-Farzana-modulo2-team5-/SELENIUM.ipynb#W4sZmlsZQ%3D%3D?line=20'>21</a>\u001b[0m año \u001b[39m=\u001b[39m driver\u001b[39m.\u001b[39;49mfind_element(\u001b[39m\"\u001b[39;49m\u001b[39mxpath\u001b[39;49m\u001b[39m\"\u001b[39;49m, \u001b[39mf\u001b[39;49m\u001b[39m'\u001b[39;49m\u001b[39m//*[@id=\u001b[39;49m\u001b[39m\"\u001b[39;49m\u001b[39msearch-results\u001b[39;49m\u001b[39m\"\u001b[39;49m\u001b[39m]/search-page-result[2]/ul/search-page-media-row[1]//li/div[3]/span[1]\u001b[39;49m\u001b[39m'\u001b[39;49m)\u001b[39m.\u001b[39mtext\n\u001b[0;32m     <a href='vscode-notebook-cell:/c%3A/Users/User/Desktop/Adalab/modulo-2/modulo-2-proyecto/proyecto-da-promo-Farzana-modulo2-team5-/SELENIUM.ipynb#W4sZmlsZQ%3D%3D?line=22'>23</a>\u001b[0m año\n",
      "File \u001b[1;32m~\\AppData\\Local\\Packages\\PythonSoftwareFoundation.Python.3.10_qbz5n2kfra8p0\\LocalCache\\local-packages\\Python310\\site-packages\\selenium\\webdriver\\remote\\webdriver.py:738\u001b[0m, in \u001b[0;36mWebDriver.find_element\u001b[1;34m(self, by, value)\u001b[0m\n\u001b[0;32m    735\u001b[0m     by \u001b[39m=\u001b[39m By\u001b[39m.\u001b[39mCSS_SELECTOR\n\u001b[0;32m    736\u001b[0m     value \u001b[39m=\u001b[39m \u001b[39mf\u001b[39m\u001b[39m'\u001b[39m\u001b[39m[name=\u001b[39m\u001b[39m\"\u001b[39m\u001b[39m{\u001b[39;00mvalue\u001b[39m}\u001b[39;00m\u001b[39m\"\u001b[39m\u001b[39m]\u001b[39m\u001b[39m'\u001b[39m\n\u001b[1;32m--> 738\u001b[0m \u001b[39mreturn\u001b[39;00m \u001b[39mself\u001b[39;49m\u001b[39m.\u001b[39;49mexecute(Command\u001b[39m.\u001b[39;49mFIND_ELEMENT, {\u001b[39m\"\u001b[39;49m\u001b[39musing\u001b[39;49m\u001b[39m\"\u001b[39;49m: by, \u001b[39m\"\u001b[39;49m\u001b[39mvalue\u001b[39;49m\u001b[39m\"\u001b[39;49m: value})[\u001b[39m\"\u001b[39m\u001b[39mvalue\u001b[39m\u001b[39m\"\u001b[39m]\n",
      "File \u001b[1;32m~\\AppData\\Local\\Packages\\PythonSoftwareFoundation.Python.3.10_qbz5n2kfra8p0\\LocalCache\\local-packages\\Python310\\site-packages\\selenium\\webdriver\\remote\\webdriver.py:344\u001b[0m, in \u001b[0;36mWebDriver.execute\u001b[1;34m(self, driver_command, params)\u001b[0m\n\u001b[0;32m    342\u001b[0m response \u001b[39m=\u001b[39m \u001b[39mself\u001b[39m\u001b[39m.\u001b[39mcommand_executor\u001b[39m.\u001b[39mexecute(driver_command, params)\n\u001b[0;32m    343\u001b[0m \u001b[39mif\u001b[39;00m response:\n\u001b[1;32m--> 344\u001b[0m     \u001b[39mself\u001b[39;49m\u001b[39m.\u001b[39;49merror_handler\u001b[39m.\u001b[39;49mcheck_response(response)\n\u001b[0;32m    345\u001b[0m     response[\u001b[39m\"\u001b[39m\u001b[39mvalue\u001b[39m\u001b[39m\"\u001b[39m] \u001b[39m=\u001b[39m \u001b[39mself\u001b[39m\u001b[39m.\u001b[39m_unwrap_value(response\u001b[39m.\u001b[39mget(\u001b[39m\"\u001b[39m\u001b[39mvalue\u001b[39m\u001b[39m\"\u001b[39m, \u001b[39mNone\u001b[39;00m))\n\u001b[0;32m    346\u001b[0m     \u001b[39mreturn\u001b[39;00m response\n",
      "File \u001b[1;32m~\\AppData\\Local\\Packages\\PythonSoftwareFoundation.Python.3.10_qbz5n2kfra8p0\\LocalCache\\local-packages\\Python310\\site-packages\\selenium\\webdriver\\remote\\errorhandler.py:229\u001b[0m, in \u001b[0;36mErrorHandler.check_response\u001b[1;34m(self, response)\u001b[0m\n\u001b[0;32m    227\u001b[0m         alert_text \u001b[39m=\u001b[39m value[\u001b[39m\"\u001b[39m\u001b[39malert\u001b[39m\u001b[39m\"\u001b[39m]\u001b[39m.\u001b[39mget(\u001b[39m\"\u001b[39m\u001b[39mtext\u001b[39m\u001b[39m\"\u001b[39m)\n\u001b[0;32m    228\u001b[0m     \u001b[39mraise\u001b[39;00m exception_class(message, screen, stacktrace, alert_text)  \u001b[39m# type: ignore[call-arg]  # mypy is not smart enough here\u001b[39;00m\n\u001b[1;32m--> 229\u001b[0m \u001b[39mraise\u001b[39;00m exception_class(message, screen, stacktrace)\n",
      "\u001b[1;31mNoSuchElementException\u001b[0m: Message: no such element: Unable to locate element: {\"method\":\"xpath\",\"selector\":\"//*[@id=\"search-results\"]/search-page-result[2]/ul/search-page-media-row[1]//li/div[3]/span[1]\"}\n  (Session info: chrome=118.0.5993.118); For documentation on this error, please visit: https://www.selenium.dev/documentation/webdriver/troubleshooting/errors#no-such-element-exception\nStacktrace:\n\tGetHandleVerifier [0x00007FF66B0F8EF2+54786]\n\t(No symbol) [0x00007FF66B065612]\n\t(No symbol) [0x00007FF66AF1A64B]\n\t(No symbol) [0x00007FF66AF5B79C]\n\t(No symbol) [0x00007FF66AF5B91C]\n\t(No symbol) [0x00007FF66AF96D87]\n\t(No symbol) [0x00007FF66AF7BEAF]\n\t(No symbol) [0x00007FF66AF94D02]\n\t(No symbol) [0x00007FF66AF7BC43]\n\t(No symbol) [0x00007FF66AF50941]\n\t(No symbol) [0x00007FF66AF51B84]\n\tGetHandleVerifier [0x00007FF66B447F52+3524194]\n\tGetHandleVerifier [0x00007FF66B49D800+3874576]\n\tGetHandleVerifier [0x00007FF66B495D7F+3843215]\n\tGetHandleVerifier [0x00007FF66B195086+694166]\n\t(No symbol) [0x00007FF66B070A88]\n\t(No symbol) [0x00007FF66B06CA94]\n\t(No symbol) [0x00007FF66B06CBC2]\n\t(No symbol) [0x00007FF66B05CC83]\n\tBaseThreadInitThunk [0x00007FFCD1A4257D+29]\n\tRtlUserThreadStart [0x00007FFCD29EAA78+40]\n"
     ]
    }
   ],
   "source": [
    "diccionario = {'Genero': [\"Drama\"],\n",
    "                    'Tipo' : [\"Movie\"],\n",
    "                    'Nombre' : [\"The Hunger Games\"],\n",
    "                    'Año estreno' : [2012],\n",
    "                    'Mes estreno' : [12],\n",
    "                    'Id' :['tt0313462']}\n",
    "\n",
    "driver = webdriver.Chrome()\n",
    "\n",
    "driver.get(\"https://www.rottentomatoes.com/\")\n",
    "\n",
    "driver.maximize_window()\n",
    "\n",
    "#cookies\n",
    "driver.find_element(\"css selector\", '#onetrust-reject-all-handler').click()\n",
    "\n",
    "#inputs película\n",
    "#Escribe el título de la pelicula en el buscador\n",
    "driver.find_element(\"css selector\", \"#header-main > search-algolia > search-algolia-controls > input\").send_keys(f'\"{diccionario[\"Nombre\"][0]}\"', Keys.ENTER)\n",
    "sleep(4)\n",
    "año = driver.find_element(\"xpath\", f'//*[@id=\"search-results\"]/search-page-result[2]/ul/search-page-media-row[1]//li/div[3]/span[1]').text\n",
    "\n",
    "año"
   ]
  },
  {
   "cell_type": "code",
   "execution_count": null,
   "metadata": {},
   "outputs": [],
   "source": [
    "# sleep(3)\n",
    "# for i in range (1, 11):\n",
    "#     sleep(3)\n",
    "#     año = driver.find_element(\"xpath\", f'//*[@id=\"search-results\"]/search-page-result[2]/ul/search-page-media-row[{i}]//li/div[3]/span[1]').text\n",
    "#     sleep(3)\n",
    "#     if año == diccionario['Año estreno']:\n",
    "#         rotten_puntos = driver.find_element(\"xpath\", f'//*[@id=\"search-results\"]/search-page-result[2]/ul/search-page-media-row[{i}]//li/div[1]/score-icon-critic-deprecated//div/span[2]').text\n",
    "# li > div.info-wrap > span.year\n",
    "# li > div.info-wrap > span.year\n",
    "# li > div.info-wrap > span.year \n",
    "\n",
    "año\n",
    "# //*[@id=\"search-results\"]/search-page-result[2]/ul/search-page-media-row[1]//li/div[3]/span[1]\n",
    "# //*[@id=\"search-results\"]/search-page-result[2]/ul/search-page-media-row[2]//li/div[3]/span[1]\n",
    "# //*[@id=\"search-results\"]/search-page-result[2]/ul/search-page-media-row[3]//li/div[3]/span[1] \n",
    "\n",
    "# //*[@id=\"search-results\"]/search-page-result[2]/ul/search-page-media-row[3]//li/div[1]/score-icon-critic-deprecated//div/span[2]\n",
    "# //*[@id=\"search-results\"]/search-page-result[2]/ul/search-page-media-row[4]//li/div[1]/score-icon-critic-deprecated//div/span[2]"
   ]
  },
  {
   "cell_type": "code",
   "execution_count": 8,
   "metadata": {},
   "outputs": [
    {
     "name": "stdout",
     "output_type": "stream",
     "text": [
      "7,2\n",
      "Gary Ross\n",
      "['Gary Ross', 'Suzanne Collins', 'Billy Ray']\n"
     ]
    }
   ],
   "source": [
    "print(imdb_puntos)\n",
    "print(imdb_director)\n",
    "print(guionistas)"
   ]
  }
 ],
 "metadata": {
  "kernelspec": {
   "display_name": "Python 3",
   "language": "python",
   "name": "python3"
  },
  "language_info": {
   "codemirror_mode": {
    "name": "ipython",
    "version": 3
   },
   "file_extension": ".py",
   "mimetype": "text/x-python",
   "name": "python",
   "nbconvert_exporter": "python",
   "pygments_lexer": "ipython3",
   "version": "3.11.6"
  }
 },
 "nbformat": 4,
 "nbformat_minor": 2
}
