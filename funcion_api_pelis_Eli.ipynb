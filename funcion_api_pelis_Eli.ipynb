{
 "cells": [
  {
   "cell_type": "markdown",
   "metadata": {},
   "source": [
    "Fase 1: Extracción de Datos de API de MoviesDataset  \n",
    "En esta fase, usaremos la API de MoviesDataset, que contiene una gran cantidad de información sobre películas, incluyendo detalles como títulos, géneros, años de lanzamiento y más. Vuestra tarea será hacer solicitudes a esta API y extraer información relevante sobre las películas. En concreto tendreis que sacar la siguiente información:  \n",
    "Películas desde el 1990 hasta la actualidad.  \n",
    "Películas que pertenezcan a los siguientes géneros: Drama, Comedy, Action, Fantasy, Horror, Mystery, Romance, Thriller.  \n",
    "De cada una de las películas tendreis que sacar la siguiente información:  \n",
    "Tipo (si es corto o película).  \n",
    "Nombre de la película o el corto.  \n",
    "Año de estreno de la película o corto.  \n",
    "Mes de estreno de la película o corto.  \n",
    "Id de la película.  \n",
    "La documentación a la API la encontrarás aquí.  \n",
    "NOTA: La información de la API deberá ser almacenada en una lista de tuplas. Cada tupla corresponderá a una película. Siguiendo el siguiente ejemplo:  \n",
    "[(\"Pelicula\", \"Titanic\", 1997, 12, \"abc123\"), (\"Pelicula\", \"Los Gonnies\", 1985, 6, "
   ]
  },
  {
   "cell_type": "code",
   "execution_count": null,
   "metadata": {},
   "outputs": [],
   "source": [
    "#importamos librerías\n",
    "#definimos función dentro de la cual tenemos llamada a la api y definimos un diccionario con keys vacías\n",
    "# para ir poblándolas de valores después de recorrer con un for los resultados del json y apendear los resultados en el diccionario creado.\n",
    "#con el try y except hemos conseguido poder iterar los resultados de las películas que no contenían año ni mes.\n",
    "#Finalmente llamamos la función y mediante otro for loop creamos diccionarios para todos los géneros pero acotándolo por rangos de años\n",
    "# así evitamos el ERROR 429 que se genera al llamar la URL.\n",
    "import requests\n",
    "import pandas as pd\n",
    "\n",
    "diccionario = {'Genero': [],\n",
    "                'Tipo': [],\n",
    "                'Nombre': [],\n",
    "                'Año estreno': [],\n",
    "                'Mes estreno': [],\n",
    "                'Id': []}\n",
    "\n",
    "def sacar_pelis(url, año, genero, diccionario):\n",
    "    page = 1\n",
    "    while page <= 3:\n",
    "        querystring = {\"year\": str(año), \"page\": str(page), \"genre\": genero, \"limit\": \"50\"}\n",
    "\n",
    "        headers = {\n",
    "            \"X-RapidAPI-Key\": \"a70ffcc084mshcc839d466994dc6p11e747jsnf85be658e6fd\",\n",
    "            \"X-RapidAPI-Host\": \"moviesdatabase.p.rapidapi.com\"\n",
    "        }\n",
    "\n",
    "        response = requests.get(url, headers=headers, params=querystring)\n",
    "        json_pelis = response.json()\n",
    "\n",
    "        try:\n",
    "            if not json_pelis['results']:\n",
    "                print(json_pelis)\n",
    "                break\n",
    "        except:\n",
    "            break\n",
    "\n",
    "        print(f\"{page}\")\n",
    "\n",
    "        for peli in json_pelis['results']:\n",
    "            if peli[\"titleType\"][\"text\"] == \"Short\" or peli[\"titleType\"][\"text\"] == \"Movie\":\n",
    "                    diccionario[\"Genero\"].append(genero)\n",
    "                    diccionario[\"Tipo\"].append(peli[\"titleType\"][\"text\"])\n",
    "                    diccionario[\"Nombre\"].append(peli[\"originalTitleText\"][\"text\"])\n",
    "                    try:\n",
    "                        diccionario[\"Año estreno\"].append(peli[\"releaseDate\"][\"year\"])\n",
    "                    except:\n",
    "                        diccionario[\"Año estreno\"].append(\"None\")\n",
    "                    try:\n",
    "                        diccionario[\"Mes estreno\"].append(peli[\"releaseDate\"][\"month\"])\n",
    "                    except:\n",
    "                        diccionario[\"Mes estreno\"].append(\"None\")\n",
    "\n",
    "                    diccionario[\"Id\"].append(peli[\"id\"])\n",
    "\n",
    "                    print(f'Género: {genero}, Tipo: {peli[\"titleType\"][\"text\"]}, Nombre: {peli[\"originalTitleText\"][\"text\"]}, Año de estreno: {diccionario[\"Año estreno\"][-1]}, Mes de estreno: {diccionario[\"Mes estreno\"][-1]}, ID: {peli[\"id\"]}')\n",
    "\n",
    "        page += 1\n",
    "    return diccionario\n",
    "\n",
    "url = \"https://moviesdatabase.p.rapidapi.com/titles\"\n",
    "generos = [\"Drama\", \"Comedy\", \"Action\", \"Fantasy\", \"Horror\", \"Mystery\", \"Romance\", \"Thriller\"]\n",
    "\n",
    "for genero in generos:\n",
    "    for año in range(1990, 1993):\n",
    "        diccionario_90_92= sacar_pelis(url, año, genero, diccionario)\n",
    "        \n",
    "\n",
    "df = pd.DataFrame(diccionario_90_92)\n",
    "print(df)\n"
   ]
  },
  {
   "cell_type": "code",
   "execution_count": 6,
   "metadata": {},
   "outputs": [],
   "source": [
    "#creamos el DATAFRAME para cada uno de los rangos.\n",
    "tabla_pelis90_92 = pd.DataFrame(diccionario_90_92) \n",
    "tabla_pelis90_92.to_csv('pelis90_92.csv')"
   ]
  },
  {
   "cell_type": "code",
   "execution_count": null,
   "metadata": {},
   "outputs": [],
   "source": [
    "url = \"https://moviesdatabase.p.rapidapi.com/titles\"\n",
    "generos = [\"Drama\", \"Comedy\", \"Action\", \"Fantasy\", \"Horror\", \"Mystery\", \"Romance\", \"Thriller\"]\n",
    "\n",
    "for genero in generos:\n",
    "    for año in range(1993, 1996):\n",
    "        diccionario_93_95= sacar_pelis(url, año, genero, diccionario)\n",
    "        \n",
    "\n",
    "df = pd.DataFrame(diccionario_93_95)\n",
    "print(df)"
   ]
  },
  {
   "cell_type": "code",
   "execution_count": 10,
   "metadata": {},
   "outputs": [],
   "source": [
    "#creamos un csv del DATAFRAME\n",
    "tabla_pelis93_95 = pd.DataFrame(diccionario_93_95) \n",
    "tabla_pelis93_95.to_csv('pelis93_95.csv')"
   ]
  },
  {
   "cell_type": "code",
   "execution_count": null,
   "metadata": {},
   "outputs": [],
   "source": [
    "url = \"https://moviesdatabase.p.rapidapi.com/titles\"\n",
    "generos = [\"Drama\", \"Comedy\", \"Action\", \"Fantasy\", \"Horror\", \"Mystery\", \"Romance\", \"Thriller\"]\n",
    "\n",
    "for genero in generos:\n",
    "    for año in range(1996, 1999):\n",
    "        diccionario_96_98= sacar_pelis(url, año, genero, diccionario)\n",
    "        \n",
    "\n",
    "df = pd.DataFrame(diccionario_96_98)\n",
    "print(df)"
   ]
  },
  {
   "cell_type": "code",
   "execution_count": 13,
   "metadata": {},
   "outputs": [],
   "source": [
    "tabla_pelis96_98 = pd.DataFrame(diccionario_96_98) \n",
    "tabla_pelis96_98.to_csv('pelis96_98.csv')"
   ]
  },
  {
   "cell_type": "code",
   "execution_count": null,
   "metadata": {},
   "outputs": [],
   "source": [
    "#Importamos la librería \"os\" para poder realizar la concatenación de todos los csv creados.\n",
    "import os\n",
    "fileList = os.listdir()\n",
    "print(fileList)\n",
    "listCsv = [file for file in fileList if file[-3:] == \"csv\"]\n",
    "print(listCsv)\n",
    "df = pd.DataFrame()\n",
    " \n",
    "for file in listCsv:\n",
    "    ftemp = pd.read_csv(file)\n",
    "    df = pd.concat([df, ftemp], axis=0)\n",
    "    \n",
    "listCsv = [file for file in os.listdir() if file[-3:] == \"csv\"]\n",
    " \n",
    "df = pd.DataFrame()\n",
    " \n",
    "for file in listCsv:\n",
    "    ftemp = pd.read_csv(file)\n",
    "    df = pd.concat([df, ftemp], axis=0)\n",
    "df"
   ]
  },
  {
   "cell_type": "code",
   "execution_count": 21,
   "metadata": {},
   "outputs": [],
   "source": [
    "#una vez realizada la concatenación, creamos un nuevo csv que muestre toda la información.\n",
    "tabla_90_98 = pd.DataFrame(df) \n",
    "tabla_90_98.to_csv('tabla_90_98.csv')"
   ]
  },
  {
   "cell_type": "markdown",
   "metadata": {},
   "source": [
    "NOTA: quizás podríamos cambiar en la función principal la iteración para la que creamos el diccionario vacío para que no muestre las películas que no tienen ni año ni mes. Lo he intentado sacando el try except para año y mes, y sustituirlo con un if != None pero no he tenido éxito.Si lo hacemos el resultado final en csv saldría limpio."
   ]
  }
 ],
 "metadata": {
  "kernelspec": {
   "display_name": "base",
   "language": "python",
   "name": "python3"
  },
  "language_info": {
   "codemirror_mode": {
    "name": "ipython",
    "version": 3
   },
   "file_extension": ".py",
   "mimetype": "text/x-python",
   "name": "python",
   "nbconvert_exporter": "python",
   "pygments_lexer": "ipython3",
   "version": "3.11.6"
  }
 },
 "nbformat": 4,
 "nbformat_minor": 2
}
