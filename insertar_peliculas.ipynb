{
 "cells": [
  {
   "cell_type": "code",
   "execution_count": null,
   "metadata": {},
   "outputs": [],
   "source": [
    "# pip install mysql-connector-python\n",
    "# pip install mysql-connector-python\n",
    "import pandas as pd\n",
    "import mysql.connector\n",
    "from  mysql.connector import errorcode"
   ]
  },
  {
   "cell_type": "code",
   "execution_count": null,
   "metadata": {},
   "outputs": [],
   "source": [
    "df_pelis = pd.read_csv('datos_peliculas/lista_peliculas_2000_1000.csv', usecols= [0,1,2,3,4,5,6,9,10])\n",
    "df_pelis.fillna(0)\n",
    "# Hemos quitado las columnas de actores y guionistas que no las necesitamos aquí. Actores[7], Guionistas[8]\n",
    "lista_tuplas_pelis = [tuple(fila) for fila in df_pelis.values]\n",
    "print(lista_tuplas_pelis[0])                     "
   ]
  },
  {
   "cell_type": "code",
   "execution_count": 10,
   "metadata": {},
   "outputs": [],
   "source": [
    "#Tabla peliculas\n",
    "cnx = mysql.connector.connect(user=\"root\",\n",
    "                               password=\"AlumnaAdalab\",\n",
    "                               host=\"localhost\", database = \"bho_peliculas_2\")\n",
    "\n",
    "mycursor = cnx.cursor()\n",
    "\n",
    "sql_pelis = \"INSERT IGNORE INTO peliculas (id_pelicula, nombre_pelicula, tipo, genero, año_estreno, mes_estreno, direccion, argumento, duracion) VALUES (%s, %s, %s, %s, %s, %s, %s, %s, %s)\"\n",
    "\n",
    "# IGNORE cuando ya existe no lo introduce\n",
    "\n",
    "mycursor.executemany(sql_pelis, lista_tuplas_pelis[:6])\n",
    "cnx.commit()\n",
    "print(mycursor.rowcount, \"registros insertados\")\n",
    " \n",
    " # NO ME FUNCIONA 😞 me falla en el :6\n"
   ]
  }
 ],
 "metadata": {
  "kernelspec": {
   "display_name": "Python 3",
   "language": "python",
   "name": "python3"
  },
  "language_info": {
   "codemirror_mode": {
    "name": "ipython",
    "version": 3
   },
   "file_extension": ".py",
   "mimetype": "text/x-python",
   "name": "python",
   "nbconvert_exporter": "python",
   "pygments_lexer": "ipython3",
   "version": "3.11.6"
  }
 },
 "nbformat": 4,
 "nbformat_minor": 2
}
